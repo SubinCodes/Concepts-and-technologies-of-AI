{
  "nbformat": 4,
  "nbformat_minor": 0,
  "metadata": {
    "colab": {
      "provenance": []
    },
    "kernelspec": {
      "name": "python3",
      "display_name": "Python 3"
    },
    "language_info": {
      "name": "python"
    }
  },
  "cells": [
    {
      "cell_type": "markdown",
      "source": [
        " 3.1.Problem 1- Data Read, Write and Inspect:\n",
        " Complete all following Task:\n",
        " • Dataset for the Task: \"bank.csv\"\n",
        " 1. Load the provided dataset and import in pandas DataFrame.\n",
        " 2. Check info of the DataFrame and identify following:\n",
        " (a) columns with dtypes=object\n",
        " (b) unique values of those columns.\n",
        " (c) check for the total number of null values in each column.\n",
        " 3. Drop all the columns with dtypes object and store in new DataFrame, also write the DataFrame in\n",
        " ”.csv” with name ”banknumericdata.csv”\n",
        " 4. Read ”banknumericdata.csv” and Find the summary statistics"
      ],
      "metadata": {
        "id": "iPI8YdXD9nzi"
      }
    },
    {
      "cell_type": "code",
      "execution_count": 3,
      "metadata": {
        "colab": {
          "base_uri": "https://localhost:8080/"
        },
        "id": "gmRcvOxA9m5a",
        "outputId": "cbb989c6-deb3-4e0b-aef5-2c15f10e0421"
      },
      "outputs": [
        {
          "output_type": "stream",
          "name": "stdout",
          "text": [
            "Columns with dtype=object:\n",
            "Index(['job', 'marital', 'education', 'default', 'housing', 'loan', 'contact',\n",
            "       'month', 'poutcome', 'y'],\n",
            "      dtype='object')\n",
            "job: ['management' 'technician' 'entrepreneur' 'blue-collar' 'unknown'\n",
            " 'retired' 'admin.' 'services' 'self-employed' 'unemployed' 'housemaid'\n",
            " 'student']\n",
            "marital: ['married' 'single' 'divorced']\n",
            "education: ['tertiary' 'secondary' 'unknown' 'primary']\n",
            "default: ['no' 'yes']\n",
            "housing: ['yes' 'no']\n",
            "loan: ['no' 'yes']\n",
            "contact: ['unknown' 'cellular' 'telephone']\n",
            "month: ['may' 'jun' 'jul' 'aug' 'oct' 'nov' 'dec' 'jan' 'feb' 'mar' 'apr' 'sep']\n",
            "poutcome: ['unknown' 'failure' 'other' 'success']\n",
            "y: ['no' 'yes']\n",
            "\n",
            "Null values in each column:\n",
            "age          0\n",
            "job          0\n",
            "marital      0\n",
            "education    0\n",
            "default      0\n",
            "balance      0\n",
            "housing      0\n",
            "loan         0\n",
            "contact      0\n",
            "day          0\n",
            "month        0\n",
            "duration     0\n",
            "campaign     0\n",
            "pdays        0\n",
            "previous     0\n",
            "poutcome     0\n",
            "y            0\n",
            "dtype: int64\n",
            "\n",
            "Numeric DataFrame saved as 'banknumericdata.csv'.\n",
            "\n",
            "Summary statistics:\n",
            "                age        balance           day      duration      campaign  \\\n",
            "count  45211.000000   45211.000000  45211.000000  45211.000000  45211.000000   \n",
            "mean      40.936210    1362.272058     15.806419    258.163080      2.763841   \n",
            "std       10.618762    3044.765829      8.322476    257.527812      3.098021   \n",
            "min       18.000000   -8019.000000      1.000000      0.000000      1.000000   \n",
            "25%       33.000000      72.000000      8.000000    103.000000      1.000000   \n",
            "50%       39.000000     448.000000     16.000000    180.000000      2.000000   \n",
            "75%       48.000000    1428.000000     21.000000    319.000000      3.000000   \n",
            "max       95.000000  102127.000000     31.000000   4918.000000     63.000000   \n",
            "\n",
            "              pdays      previous  \n",
            "count  45211.000000  45211.000000  \n",
            "mean      40.197828      0.580323  \n",
            "std      100.128746      2.303441  \n",
            "min       -1.000000      0.000000  \n",
            "25%       -1.000000      0.000000  \n",
            "50%       -1.000000      0.000000  \n",
            "75%       -1.000000      0.000000  \n",
            "max      871.000000    275.000000  \n"
          ]
        }
      ],
      "source": [
        "import pandas as pd\n",
        "\n",
        "# 1\n",
        "df = pd.read_csv('/content/drive/MyDrive/Datasets/bank .csv')\n",
        "\n",
        "# 2\n",
        "object_columns = df.select_dtypes(include='object')\n",
        "print(\"Columns with dtype=object:\")\n",
        "print(object_columns.columns)\n",
        "\n",
        "for col in object_columns.columns:\n",
        "    print(f\"{col}: {df[col].unique()}\")\n",
        "\n",
        "#Checking null values\n",
        "print(\"\\nNull values in each column:\")\n",
        "print(df.isnull().sum())\n",
        "\n",
        "# 3\n",
        "numeric_df = df.select_dtypes(exclude='object')\n",
        "numeric_df.to_csv(\"banknumericdata.csv\", index=False)\n",
        "print(\"\\nNumeric DataFrame saved as 'banknumericdata.csv'.\")\n",
        "\n",
        "# 4\n",
        "numeric_data = pd.read_csv(\"banknumericdata.csv\")\n",
        "print(\"\\nSummary statistics:\")\n",
        "print(numeric_data.describe())\n"
      ]
    },
    {
      "cell_type": "markdown",
      "source": [
        " 3.1.Problem 2- Data Imputations:\n",
        " Complete all the following Task:\n",
        " • Dataset for the Task: \"medical_student.csv\"\n",
        " 1. Load the provided dataset and import in pandas DataFrame.\n",
        " 2. Check info of the DataFrame and identify column with missing (null) values.\n",
        " 3. For the column with missing values fill the values using various techniques we discussed above. Try\n",
        " to explain why did you select the particular methods for particular column.\n",
        " 4. Check for any duplicate values present in Dataset and do necessary to manage the duplicate items.\n",
        " {Hint: dataset.duplicated.sum()}"
      ],
      "metadata": {
        "id": "tUBrULXd9ugh"
      }
    },
    {
      "cell_type": "code",
      "source": [
        "import pandas as pd\n",
        "\n",
        "# 1\n",
        "file_path = \"/content/drive/MyDrive/Datasets/medical_students_dataset.csv\"\n",
        "df = pd.read_csv(file_path)\n",
        "\n",
        "# 2\n",
        "print(\"DataFrame Info:\")\n",
        "print(df.info())\n",
        "\n",
        "#Missing values in the column\n",
        "missing_values = df.isnull().sum()\n",
        "print(\"\\nColumns with missing values:\")\n",
        "print(missing_values[missing_values > 0])\n",
        "\n",
        "# 3. filling missing values\n",
        "for col in missing_values[missing_values > 0].index:\n",
        "    if df[col].dtype in ['float64', 'int64']:\n",
        "        #for numeric colums\n",
        "        df[col].fillna(df[col].mean(), inplace=True)\n",
        "        print(f\"Filled missing values in numeric column '{col}' with mean: {df[col].mean()}\")\n",
        "    else:\n",
        "        #for categorized colums\n",
        "        df[col].fillna(df[col].mode()[0], inplace=True)\n",
        "        print(f\"Filled missing values in categorical column '{col}' with mode: {df[col].mode()[0]}\")\n",
        "\n",
        "# 4\n",
        "duplicates = df.duplicated().sum()\n",
        "print(f\"\\nNumber of duplicate rows: {duplicates}\")\n",
        "\n",
        "if duplicates > 0:\n",
        "    # dropping duplicate rows\n",
        "    df = df.drop_duplicates()\n",
        "    print(f\"Duplicate rows removed. New dataset size: {df.shape}\")\n",
        "\n",
        "print(\"\\nFinal Dataset Info:\")\n",
        "print(df.info())\n",
        "\n",
        "df.to_csv(\"medical_student_cleaned.csv\", index=False)\n",
        "print(\"\\nCleaned dataset saved as 'medical_student_cleaned.csv'.\")\n"
      ],
      "metadata": {
        "id": "dLkfvOJs-CFz",
        "colab": {
          "base_uri": "https://localhost:8080/"
        },
        "outputId": "820afa00-01c9-459b-b963-e8f00acbf4e8"
      },
      "execution_count": null,
      "outputs": [
        {
          "output_type": "stream",
          "name": "stdout",
          "text": [
            "DataFrame Info:\n",
            "<class 'pandas.core.frame.DataFrame'>\n",
            "RangeIndex: 200000 entries, 0 to 199999\n",
            "Data columns (total 13 columns):\n",
            " #   Column          Non-Null Count   Dtype  \n",
            "---  ------          --------------   -----  \n",
            " 0   Student ID      180000 non-null  float64\n",
            " 1   Age             180000 non-null  float64\n",
            " 2   Gender          180000 non-null  object \n",
            " 3   Height          180000 non-null  float64\n",
            " 4   Weight          180000 non-null  float64\n",
            " 5   Blood Type      180000 non-null  object \n",
            " 6   BMI             180000 non-null  float64\n",
            " 7   Temperature     180000 non-null  float64\n",
            " 8   Heart Rate      180000 non-null  float64\n",
            " 9   Blood Pressure  180000 non-null  float64\n",
            " 10  Cholesterol     180000 non-null  float64\n",
            " 11  Diabetes        180000 non-null  object \n",
            " 12  Smoking         180000 non-null  object \n",
            "dtypes: float64(9), object(4)\n",
            "memory usage: 19.8+ MB\n",
            "None\n",
            "\n",
            "Columns with missing values:\n",
            "Student ID        20000\n",
            "Age               20000\n",
            "Gender            20000\n",
            "Height            20000\n",
            "Weight            20000\n",
            "Blood Type        20000\n",
            "BMI               20000\n",
            "Temperature       20000\n",
            "Heart Rate        20000\n",
            "Blood Pressure    20000\n",
            "Cholesterol       20000\n",
            "Diabetes          20000\n",
            "Smoking           20000\n",
            "dtype: int64\n",
            "Filled missing values in numeric column 'Student ID' with mean: 49974.042077777776\n",
            "Filled missing values in numeric column 'Age' with mean: 26.02156111111111\n"
          ]
        },
        {
          "output_type": "stream",
          "name": "stderr",
          "text": [
            "<ipython-input-8-31e58826d84d>:21: FutureWarning: A value is trying to be set on a copy of a DataFrame or Series through chained assignment using an inplace method.\n",
            "The behavior will change in pandas 3.0. This inplace method will never work because the intermediate object on which we are setting values always behaves as a copy.\n",
            "\n",
            "For example, when doing 'df[col].method(value, inplace=True)', try using 'df.method({col: value}, inplace=True)' or df[col] = df[col].method(value) instead, to perform the operation inplace on the original object.\n",
            "\n",
            "\n",
            "  df[col].fillna(df[col].mean(), inplace=True)\n",
            "<ipython-input-8-31e58826d84d>:25: FutureWarning: A value is trying to be set on a copy of a DataFrame or Series through chained assignment using an inplace method.\n",
            "The behavior will change in pandas 3.0. This inplace method will never work because the intermediate object on which we are setting values always behaves as a copy.\n",
            "\n",
            "For example, when doing 'df[col].method(value, inplace=True)', try using 'df.method({col: value}, inplace=True)' or df[col] = df[col].method(value) instead, to perform the operation inplace on the original object.\n",
            "\n",
            "\n",
            "  df[col].fillna(df[col].mode()[0], inplace=True)\n"
          ]
        },
        {
          "output_type": "stream",
          "name": "stdout",
          "text": [
            "Filled missing values in categorical column 'Gender' with mode: Male\n",
            "Filled missing values in numeric column 'Height' with mean: 174.94710266857416\n",
            "Filled missing values in numeric column 'Weight' with mean: 69.97158509186077\n",
            "Filled missing values in categorical column 'Blood Type' with mode: B\n",
            "Filled missing values in numeric column 'BMI' with mean: 23.338869359639226\n",
            "Filled missing values in numeric column 'Temperature' with mean: 98.60094787707666\n",
            "Filled missing values in numeric column 'Heart Rate' with mean: 79.50376666666666\n",
            "Filled missing values in numeric column 'Blood Pressure' with mean: 114.55803333333333\n",
            "Filled missing values in numeric column 'Cholesterol' with mean: 184.4863611111111\n",
            "Filled missing values in categorical column 'Diabetes' with mode: No\n",
            "Filled missing values in categorical column 'Smoking' with mode: No\n",
            "\n",
            "Number of duplicate rows: 12572\n",
            "Duplicate rows removed. New dataset size: (187428, 13)\n",
            "\n",
            "Final Dataset Info:\n",
            "<class 'pandas.core.frame.DataFrame'>\n",
            "Index: 187428 entries, 0 to 199999\n",
            "Data columns (total 13 columns):\n",
            " #   Column          Non-Null Count   Dtype  \n",
            "---  ------          --------------   -----  \n",
            " 0   Student ID      187428 non-null  float64\n",
            " 1   Age             187428 non-null  float64\n",
            " 2   Gender          187428 non-null  object \n",
            " 3   Height          187428 non-null  float64\n",
            " 4   Weight          187428 non-null  float64\n",
            " 5   Blood Type      187428 non-null  object \n",
            " 6   BMI             187428 non-null  float64\n",
            " 7   Temperature     187428 non-null  float64\n",
            " 8   Heart Rate      187428 non-null  float64\n",
            " 9   Blood Pressure  187428 non-null  float64\n",
            " 10  Cholesterol     187428 non-null  float64\n",
            " 11  Diabetes        187428 non-null  object \n",
            " 12  Smoking         187428 non-null  object \n",
            "dtypes: float64(9), object(4)\n",
            "memory usage: 20.0+ MB\n",
            "None\n",
            "\n",
            "Cleaned dataset saved as 'medical_student_cleaned.csv'.\n"
          ]
        }
      ]
    },
    {
      "cell_type": "markdown",
      "source": [
        "3.2 Exercises- Data Cleaning and Transformations with ”Titanic Dataset”:\n",
        " Dataset Used: \"titanic.csv\"\n",
        " Problem- 1:\n",
        " Create a DataFrame that is subsetted for the columns ’Name’, ’Pclass’, ’Sex’, ’Age’, ’Fare’, and ’Survived’.\n",
        " Retain only those rows where ’Pclass’ is equal to 1, representing first-class passengers. What is the mean,\n",
        " median, maximum value, and minimum value of the ’Fare’ column?"
      ],
      "metadata": {
        "id": "_I8yPhE9DbuZ"
      }
    },
    {
      "cell_type": "code",
      "source": [
        "import pandas as pd\n",
        "\n",
        "file_path = \"/content/drive/MyDrive/Datasets/Titanic-Dataset.csv\"\n",
        "df = pd.read_csv(file_path)\n",
        "\n",
        "# Creating subset DataFrame\n",
        "subset_df = df[['Name', 'Pclass', 'Sex', 'Age', 'Fare', 'Survived']]\n",
        "\n",
        "first_class_df = subset_df[subset_df['Pclass'] == 1]\n",
        "\n",
        "mean_fare = first_class_df['Fare'].mean()\n",
        "median_fare = first_class_df['Fare'].median()\n",
        "max_fare = first_class_df['Fare'].max()\n",
        "min_fare = first_class_df['Fare'].min()\n",
        "print(\"Statistics for 'Fare' column (First-Class Passengers):\")\n",
        "print(f\"Mean Fare: {mean_fare}\")\n",
        "print(f\"Median Fare: {median_fare}\")\n",
        "print(f\"Maximum Fare: {max_fare}\")\n",
        "print(f\"Minimum Fare: {min_fare}\")\n"
      ],
      "metadata": {
        "colab": {
          "base_uri": "https://localhost:8080/"
        },
        "id": "X9rknrLXDgUh",
        "outputId": "aa7d719c-826c-4c33-a4ad-4162860a198b"
      },
      "execution_count": null,
      "outputs": [
        {
          "output_type": "stream",
          "name": "stdout",
          "text": [
            "Statistics for 'Fare' column (First-Class Passengers):\n",
            "Mean Fare: 84.1546875\n",
            "Median Fare: 60.287499999999994\n",
            "Maximum Fare: 512.3292\n",
            "Minimum Fare: 0.0\n"
          ]
        }
      ]
    },
    {
      "cell_type": "markdown",
      "source": [
        " 3.2.Problem- 2:\n",
        " How many null values are contained in the ’Age’ column in your subsetted DataFrame? Once you’ve found\n",
        " this out, drop them from your DataFrame"
      ],
      "metadata": {
        "id": "vp_BBXfDDm0Q"
      }
    },
    {
      "cell_type": "code",
      "source": [
        "import pandas as pd\n",
        "\n",
        "file_path = \"/content/drive/MyDrive/Datasets/Titanic-Dataset.csv\"\n",
        "df = pd.read_csv(file_path)\n",
        "\n",
        "subset_df = df[['Name', 'Pclass', 'Sex', 'Age', 'Fare', 'Survived']]\n",
        "\n",
        "null_age_count = subset_df['Age'].isnull().sum()\n",
        "print(f\"Number of null values in 'Age' column: {null_age_count}\")\n",
        "\n",
        "cleaned_df = subset_df.dropna(subset=['Age'])\n",
        "removed_rows = len(subset_df) - len(cleaned_df)\n",
        "print(f\"Number of rows removed: {removed_rows}\")\n",
        "print(f\"DataFrame shape after removing null values: {cleaned_df.shape}\")\n"
      ],
      "metadata": {
        "colab": {
          "base_uri": "https://localhost:8080/"
        },
        "id": "zbPhNqJ7Drf5",
        "outputId": "2cd7d932-dc4c-4924-dce6-d4ec7e34590a"
      },
      "execution_count": null,
      "outputs": [
        {
          "output_type": "stream",
          "name": "stdout",
          "text": [
            "Number of null values in 'Age' column: 177\n",
            "Number of rows removed: 177\n",
            "DataFrame shape after removing null values: (714, 6)\n"
          ]
        }
      ]
    },
    {
      "cell_type": "markdown",
      "source": [
        "3.2.Problem- 3:\n",
        " The ’Embarked’ column in the Titanic dataset contains categorical data representing the ports of embarka\n",
        "tion:\n",
        " • ’C’ for Cherbourg\n",
        " • ’Q’ for Queenstown\n",
        " • ’S’ for Southampton\n",
        " Task:\n",
        " 1. Use one-hot encoding to convert the ’Embarked’ column into separate binary columns (’Embarked C’,\n",
        " ’Embarked Q’, ’Embarked S’).\n",
        " 2. Add these new columns to the original DataFrame.\n",
        " 3. Drop the original ’Embarked’ column.\n",
        " 4. Print the first few rows of the modified DataFrame to verify the changes."
      ],
      "metadata": {
        "id": "mOppWyQcD3dh"
      }
    },
    {
      "cell_type": "code",
      "source": [
        "import pandas as pd\n",
        "\n",
        "file_path = \"/content/drive/MyDrive/Datasets/Titanic-Dataset.csv\"\n",
        "df = pd.read_csv(file_path)\n",
        "\n",
        "# 1\n",
        "embarked_dummies = pd.get_dummies(df['Embarked'], prefix='Embarked')\n",
        "\n",
        "# 2\n",
        "df = pd.concat([df, embarked_dummies], axis=1)\n",
        "\n",
        "# 3\n",
        "df.drop('Embarked', axis=1, inplace=True)\n",
        "\n",
        "# 4\n",
        "print(\"Modified DataFrame:\")\n",
        "print(df.head())\n"
      ],
      "metadata": {
        "colab": {
          "base_uri": "https://localhost:8080/"
        },
        "id": "40pYXr-uD9pY",
        "outputId": "e62f3e98-82d0-440d-decc-6b902135b438"
      },
      "execution_count": null,
      "outputs": [
        {
          "output_type": "stream",
          "name": "stdout",
          "text": [
            "Modified DataFrame:\n",
            "   PassengerId  Survived  Pclass  \\\n",
            "0            1         0       3   \n",
            "1            2         1       1   \n",
            "2            3         1       3   \n",
            "3            4         1       1   \n",
            "4            5         0       3   \n",
            "\n",
            "                                                Name     Sex   Age  SibSp  \\\n",
            "0                            Braund, Mr. Owen Harris    male  22.0      1   \n",
            "1  Cumings, Mrs. John Bradley (Florence Briggs Th...  female  38.0      1   \n",
            "2                             Heikkinen, Miss. Laina  female  26.0      0   \n",
            "3       Futrelle, Mrs. Jacques Heath (Lily May Peel)  female  35.0      1   \n",
            "4                           Allen, Mr. William Henry    male  35.0      0   \n",
            "\n",
            "   Parch            Ticket     Fare Cabin  Embarked_C  Embarked_Q  Embarked_S  \n",
            "0      0         A/5 21171   7.2500   NaN       False       False        True  \n",
            "1      0          PC 17599  71.2833   C85        True       False       False  \n",
            "2      0  STON/O2. 3101282   7.9250   NaN       False       False        True  \n",
            "3      0            113803  53.1000  C123       False       False        True  \n",
            "4      0            373450   8.0500   NaN       False       False        True  \n"
          ]
        }
      ]
    },
    {
      "cell_type": "markdown",
      "source": [
        " 3.2.Problem- 4:\n",
        " Compare the mean survival rates (’Survived’) for the different groups in the ’Sex’ column. Draw a visual\n",
        "ization to show how the survival distributions vary by gender"
      ],
      "metadata": {
        "id": "sbv15UYFEFFI"
      }
    },
    {
      "cell_type": "code",
      "source": [
        "import pandas as pd\n",
        "import matplotlib.pyplot as plt\n",
        "import seaborn as sns\n",
        "\n",
        "file_path = \"/content/drive/MyDrive/Datasets/Titanic-Dataset.csv\"\n",
        "df = pd.read_csv(file_path)\n",
        "\n",
        "# 1\n",
        "mean_survival_by_gender = df.groupby('Sex')['Survived'].mean()\n",
        "print(\"Mean Survival Rates by Gender:\")\n",
        "print(mean_survival_by_gender)\n",
        "\n",
        "# 2\n",
        "plt.figure(figsize=(8, 5))\n",
        "sns.barplot(x=mean_survival_by_gender.index, y=mean_survival_by_gender.values, palette=\"coolwarm\")\n",
        "plt.title(\"Survival Rates by Gender\")\n",
        "plt.xlabel(\"Gender\")\n",
        "plt.ylabel(\"Mean Survival Rate\")\n",
        "plt.ylim(0, 1)  # Survival rates range from 0 to 1\n",
        "plt.grid(axis='y', linestyle='--', alpha=0.7)\n",
        "plt.show()\n"
      ],
      "metadata": {
        "colab": {
          "base_uri": "https://localhost:8080/",
          "height": 661
        },
        "id": "fDT4RHNXETpg",
        "outputId": "19c77cc9-c7d4-4ce9-cf9b-5d09359c8923"
      },
      "execution_count": null,
      "outputs": [
        {
          "output_type": "stream",
          "name": "stdout",
          "text": [
            "Mean Survival Rates by Gender:\n",
            "Sex\n",
            "female    0.742038\n",
            "male      0.188908\n",
            "Name: Survived, dtype: float64\n"
          ]
        },
        {
          "output_type": "stream",
          "name": "stderr",
          "text": [
            "<ipython-input-17-260d2c70b65f>:16: FutureWarning: \n",
            "\n",
            "Passing `palette` without assigning `hue` is deprecated and will be removed in v0.14.0. Assign the `x` variable to `hue` and set `legend=False` for the same effect.\n",
            "\n",
            "  sns.barplot(x=mean_survival_by_gender.index, y=mean_survival_by_gender.values, palette=\"coolwarm\")\n"
          ]
        },
        {
          "output_type": "display_data",
          "data": {
            "text/plain": [
              "<Figure size 800x500 with 1 Axes>"
            ],
            "image/png": "[encoded data removed]"
          },
          "metadata": {}
        }
      ]
    },
    {
      "cell_type": "markdown",
      "source": [
        " 3.2.Problem- 5:\n",
        " Draw a visualization that breaks your visualization from Exercise 3 down by the port of embarkation (’Em\n",
        "barked’). In this instance, compare the ports ’C’ (Cherbourg), ’Q’ (Queenstown), and ’S’ (Southampton)."
      ],
      "metadata": {
        "id": "a-N04MBQEYGI"
      }
    },
    {
      "cell_type": "code",
      "source": [
        "import pandas as pd\n",
        "import matplotlib.pyplot as plt\n",
        "import seaborn as sns\n",
        "\n",
        "file_path = \"/content/drive/MyDrive/Datasets/Titanic-Dataset.csv\"\n",
        "df = pd.read_csv(file_path)\n",
        "\n",
        "# 1\n",
        "filtered_df = df[['Sex', 'Survived', 'Embarked']].dropna(subset=['Embarked'])\n",
        "\n",
        "# 2\n",
        "plt.figure(figsize=(10, 6))\n",
        "sns.barplot(data=filtered_df, x='Embarked', y='Survived', hue='Sex', ci=None, palette=\"coolwarm\")\n",
        "\n",
        "# 3\n",
        "plt.title(\"Survival Rates by Gender and Port of Embarkation\")\n",
        "plt.xlabel(\"Port of Embarkation\")\n",
        "plt.ylabel(\"Mean Survival Rate\")\n",
        "plt.ylim(0, 1)\n",
        "plt.legend(title=\"Gender\")\n",
        "plt.grid(axis='y', linestyle='--', alpha=0.7)\n",
        "plt.show()\n"
      ],
      "metadata": {
        "colab": {
          "base_uri": "https://localhost:8080/",
          "height": 651
        },
        "id": "47WwnLaxEdBZ",
        "outputId": "f00ab933-401d-400b-8912-b48bf5da9a40"
      },
      "execution_count": null,
      "outputs": [
        {
          "output_type": "stream",
          "name": "stderr",
          "text": [
            "<ipython-input-13-94e6221b0175>:14: FutureWarning: \n",
            "\n",
            "The `ci` parameter is deprecated. Use `errorbar=None` for the same effect.\n",
            "\n",
            "  sns.barplot(data=filtered_df, x='Embarked', y='Survived', hue='Sex', ci=None, palette=\"coolwarm\")\n"
          ]
        },
        {
          "output_type": "display_data",
          "data": {
            "text/plain": [
              "<Figure size 1000x600 with 1 Axes>"
            ],
            "image/png": "[encoded data removed]"
          },
          "metadata": {}
        }
      ]
    },
    {
      "cell_type": "markdown",
      "source": [
        " 3.2.Problem- 6{Optional}:\n",
        " Show how the survival rates (’Survived’) vary by age group and passenger class (’Pclass’). Break up the\n",
        " ’Age’ column into five quantiles in your DataFrame, and then compare the means of ’Survived’ by class\n",
        " and age group. Draw a visualization using a any plotting library to represent this graphically"
      ],
      "metadata": {
        "id": "nC0dJEmbEiE4"
      }
    },
    {
      "cell_type": "code",
      "source": [
        "import pandas as pd\n",
        "import seaborn as sns\n",
        "import matplotlib.pyplot as plt\n",
        "\n",
        "file_path = \"/content/drive/MyDrive/Datasets/Titanic-Dataset.csv\"\n",
        "df = pd.read_csv(file_path)\n",
        "\n",
        "# 1\n",
        "filtered_df = df[['Age', 'Pclass', 'Survived']].dropna()\n",
        "\n",
        "# 2\n",
        "filtered_df['AgeGroup'] = pd.qcut(filtered_df['Age'], q=5, labels=[\"Q1\", \"Q2\", \"Q3\", \"Q4\", \"Q5\"])\n",
        "\n",
        "# 3\n",
        "mean_survival = filtered_df.groupby(['Pclass', 'AgeGroup'])['Survived'].mean().reset_index()\n",
        "\n",
        "# 4\n",
        "custom_palette = [\"#1f77b4\", \"#ff7f0e\", \"#2ca02c\"]\n",
        "plt.figure(figsize=(12, 6))\n",
        "sns.barplot(data=mean_survival, x='AgeGroup', y='Survived', hue='Pclass', palette=custom_palette)\n",
        "\n",
        "# 5\n",
        "plt.title(\"Survival Rates by Age Group and Passenger Class\")\n",
        "plt.xlabel(\"Age Group\")\n",
        "plt.ylabel(\"Mean Survival Rate\")\n",
        "plt.ylim(0, 1)\n",
        "plt.legend(title=\"Passenger Class\")\n",
        "plt.grid(axis='y', linestyle='--', alpha=0.7)\n",
        "plt.show()\n"
      ],
      "metadata": {
        "colab": {
          "base_uri": "https://localhost:8080/",
          "height": 619
        },
        "id": "AzgfhsqvEkuB",
        "outputId": "3f4cd36c-2567-4736-c8d8-4a0bb39dba5d"
      },
      "execution_count": null,
      "outputs": [
        {
          "output_type": "stream",
          "name": "stderr",
          "text": [
            "<ipython-input-15-1718bbb1e2a5>:16: FutureWarning: The default of observed=False is deprecated and will be changed to True in a future version of pandas. Pass observed=False to retain current behavior or observed=True to adopt the future default and silence this warning.\n",
            "  mean_survival = filtered_df.groupby(['Pclass', 'AgeGroup'])['Survived'].mean().reset_index()\n"
          ]
        },
        {
          "output_type": "display_data",
          "data": {
            "text/plain": [
              "<Figure size 1200x600 with 1 Axes>"
            ],
            "image/png": "[encoded data removed]"
          },
          "metadata": {}
        }
      ]
    }
  ]
}