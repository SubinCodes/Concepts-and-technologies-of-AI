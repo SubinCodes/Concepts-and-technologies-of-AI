{
  "nbformat": 4,
  "nbformat_minor": 0,
  "metadata": {
    "colab": {
      "provenance": []
    },
    "kernelspec": {
      "name": "python3",
      "display_name": "Python 3"
    },
    "language_info": {
      "name": "python"
    }
  },
  "cells": [
    {
      "cell_type": "markdown",
      "source": [
        "4.1 Warming Up Exercise: Basic Vector and Matrix Operation with Numpy.\n",
        "Problem - 1: Array Creation:\n",
        "Complete the following Tasks:\n",
        "1. Initialize an empty array with size 2X2.\n",
        "2. Initialize an all one array with size 4X2.\n",
        "3. Return a new array of given shape and type, filled with fill value.{Hint: np.full}\n",
        "4. Return a new array of zeros with same shape and type as a given array.{Hint: np.zeros like}\n",
        "5. Return a new array of ones with same shape and type as a given array.{Hint: np.ones like}\n",
        "6. For an existing list new_list = [1,2,3,4] convert to an numpy array.{Hint: np.array()}"
      ],
      "metadata": {
        "id": "Tzj36iv5rXHe"
      }
    },
    {
      "cell_type": "code",
      "execution_count": 1,
      "metadata": {
        "colab": {
          "base_uri": "https://localhost:8080/"
        },
        "id": "Rk4MDdCtrAnP",
        "outputId": "1363f6c5-3409-498f-ef65-9eb38780bdf8"
      },
      "outputs": [
        {
          "output_type": "stream",
          "name": "stdout",
          "text": [
            "Empty Array (2x2):\n",
            " [[4.96425419e-310 0.00000000e+000]\n",
            " [1.22777155e-259 6.01347002e-154]]\n",
            "\n",
            "All-Ones Array (4x2):\n",
            " [[1. 1.]\n",
            " [1. 1.]\n",
            " [1. 1.]\n",
            " [1. 1.]]\n",
            "\n",
            "Array Filled with 7 (3x3):\n",
            " [[7 7 7]\n",
            " [7 7 7]\n",
            " [7 7 7]]\n",
            "\n",
            "Zeros Array (same shape as reference_array):\n",
            " [[0 0]\n",
            " [0 0]]\n",
            "\n",
            "Ones Array (same shape as reference_array):\n",
            " [[1 1]\n",
            " [1 1]]\n",
            "\n",
            "Converted NumPy Array:\n",
            " [1 2 3 4]\n"
          ]
        }
      ],
      "source": [
        "import numpy as np\n",
        "\n",
        "# 1. Initializing an empty array with size 2X2.\n",
        "empty_array = np.empty((2, 2))\n",
        "print(\"Empty Array (2x2):\\n\", empty_array)\n",
        "\n",
        "# 2. Initializing an allone array with size 4X2\n",
        "ones_array = np.ones((4, 2))\n",
        "print(\"\\nAll-Ones Array (4x2):\\n\", ones_array)\n",
        "\n",
        "# 3. Returning a new array of given shape and type, filled with fill value. 7 for example\n",
        "filled_array = np.full((3, 3), 7)\n",
        "print(\"\\nArray Filled with 7 (3x3):\\n\", filled_array)\n",
        "\n",
        "# 4. Returning a new array of zeros with the same shape and type as a given array\n",
        "reference_array = np.array([[1, 2], [3, 4]])\n",
        "zeros_like_array = np.zeros_like(reference_array)\n",
        "print(\"\\nZeros Array (same shape as reference_array):\\n\", zeros_like_array)\n",
        "\n",
        "# 5. Returning a new array of ones with the same shape and type as a given array\n",
        "ones_like_array = np.ones_like(reference_array)\n",
        "print(\"\\nOnes Array (same shape as reference_array):\\n\", ones_like_array)\n",
        "\n",
        "# 6. Converting given list to NumPy array\n",
        "new_list = [1, 2, 3, 4]\n",
        "numpy_array = np.array(new_list)\n",
        "print(\"\\nConverted NumPy Array:\\n\", numpy_array)\n"
      ]
    },
    {
      "cell_type": "markdown",
      "source": [
        "4.1.1 Problem - 2: Array Manipulation: Numerical Ranges and Array indexing:\n",
        "Complete the following tasks:\n",
        "1. Create an array with values ranging from 10 to 49. {Hint:np.arrange()}.\n",
        "2. Create a 3X3 matrix with values ranging from 0 to 8.\n",
        "{Hint:look for np.reshape()}\n",
        "3. Create a 3X3 identity matrix.{Hint:np.eye()}\n",
        "4. Create a random array of size 30 and find the mean of the array.\n",
        "{Hint:check for np.random.random() and array.mean() function}\n",
        "5. Create a 10X10 array with random values and find the minimum and maximum values.\n",
        "6. Create a zero array of size 10 and replace 5th element with 1.\n",
        "7. Reverse an array arr = [1,2,0,0,4,0].\n",
        "8. Create a 2d array with 1 on border and 0 inside.\n",
        "9. Create a 8X8 matrix and fill it with a checkerboard pattern."
      ],
      "metadata": {
        "id": "4qX83oEvskN-"
      }
    },
    {
      "cell_type": "code",
      "source": [
        "import numpy as np\n",
        "\n",
        "# 1. Creating an array with values ranging from 10 to 49\n",
        "array_range = np.arange(10, 50)\n",
        "print(\"Array ranging from 10 to 49:\\n\", array_range)\n",
        "\n",
        "# 2. Creating a 3x3 matrix with values ranging from 0 to 8\n",
        "matrix_3x3 = np.arange(9).reshape(3, 3)\n",
        "print(\"\\n3x3 Matrix with values from 0 to 8:\\n\", matrix_3x3)\n",
        "\n",
        "# 3. Creating a 3x3 identity matrix\n",
        "identity_matrix = np.eye(3)\n",
        "print(\"\\n3x3 Identity Matrix:\\n\", identity_matrix)\n",
        "\n",
        "# 4. Creating a random array of size 30 and find the mean of the array\n",
        "random_array = np.random.random(30)\n",
        "mean_value = random_array.mean()\n",
        "print(\"\\nRandom Array of size 30:\\n\", random_array)\n",
        "print(\"Mean of the array:\", mean_value)\n",
        "\n",
        "# 5. Creating a 10x10 array with random values and find the minimum and maximum values\n",
        "random_matrix = np.random.random((10, 10))\n",
        "min_value = random_matrix.min()\n",
        "max_value = random_matrix.max()\n",
        "print(\"\\n10x10 Random Matrix:\\n\", random_matrix)\n",
        "print(\"Minimum value:\", min_value)\n",
        "print(\"Maximum value:\", max_value)\n",
        "\n",
        "# 6. Creating a zero array of size 10 and replace 5th element with 1\n",
        "zero_array = np.zeros(10)\n",
        "zero_array[4] = 1\n",
        "print(\"\\nZero Array with 5th element as 1:\\n\", zero_array)\n",
        "\n",
        "# 7. Reversing an array arr = [1, 2, 0, 0, 4, 0]\n",
        "arr = [1, 2, 0, 0, 4, 0]\n",
        "reversed_array = np.array(arr)[::-1]\n",
        "print(\"\\nReversed Array:\\n\", reversed_array)\n",
        "\n",
        "# 8. Creating a 2D array with 1 on the border and 0 inside\n",
        "border_array = np.ones((5, 5))\n",
        "border_array[1:-1, 1:-1] = 0\n",
        "print(\"\\n2D Array with 1 on the border and 0 inside:\\n\", border_array)\n",
        "\n",
        "# 9. Creating an 8x8 matrix and fill it with a checkerboard pattern\n",
        "checkerboard = np.zeros((8, 8), dtype=int)\n",
        "checkerboard[1::2, ::2] = 1\n",
        "checkerboard[::2, 1::2] = 1\n",
        "print(\"\\n8x8 Checkerboard Pattern:\\n\", checkerboard)\n"
      ],
      "metadata": {
        "colab": {
          "base_uri": "https://localhost:8080/"
        },
        "id": "7i09YEdBsprD",
        "outputId": "cba4efce-ad22-4f15-b4d2-1fdedcfba7ad"
      },
      "execution_count": 2,
      "outputs": [
        {
          "output_type": "stream",
          "name": "stdout",
          "text": [
            "Array ranging from 10 to 49:\n",
            " [10 11 12 13 14 15 16 17 18 19 20 21 22 23 24 25 26 27 28 29 30 31 32 33\n",
            " 34 35 36 37 38 39 40 41 42 43 44 45 46 47 48 49]\n",
            "\n",
            "3x3 Matrix with values from 0 to 8:\n",
            " [[0 1 2]\n",
            " [3 4 5]\n",
            " [6 7 8]]\n",
            "\n",
            "3x3 Identity Matrix:\n",
            " [[1. 0. 0.]\n",
            " [0. 1. 0.]\n",
            " [0. 0. 1.]]\n",
            "\n",
            "Random Array of size 30:\n",
            " [0.52960761 0.19418709 0.02530701 0.74509745 0.20217652 0.65768829\n",
            " 0.75614715 0.53231126 0.0068207  0.3751123  0.4842831  0.03244612\n",
            " 0.55274776 0.42876066 0.51132761 0.25783261 0.25964993 0.50836354\n",
            " 0.86756947 0.69704241 0.91677487 0.71331516 0.32431188 0.62681449\n",
            " 0.61385897 0.20873229 0.73551535 0.35091984 0.55009866 0.33617091]\n",
            "Mean of the array: 0.466699700179774\n",
            "\n",
            "10x10 Random Matrix:\n",
            " [[0.46789602 0.64433465 0.42700708 0.03721838 0.39101906 0.87646781\n",
            "  0.74725057 0.38058643 0.40012942 0.73808335]\n",
            " [0.04341277 0.29085735 0.8335739  0.42907793 0.38851923 0.26474857\n",
            "  0.16290645 0.59827979 0.16940059 0.68717916]\n",
            " [0.35084774 0.16202593 0.43894989 0.36899627 0.17026409 0.78472269\n",
            "  0.70078396 0.18761584 0.36524468 0.28789189]\n",
            " [0.33131422 0.28649071 0.0846495  0.8322867  0.28780337 0.62911483\n",
            "  0.11631284 0.70725645 0.83794875 0.85984074]\n",
            " [0.65236672 0.58412453 0.03091257 0.49101794 0.94259509 0.59085657\n",
            "  0.31547959 0.91139782 0.23297584 0.05476967]\n",
            " [0.79937035 0.0774577  0.8081576  0.88872036 0.14253086 0.40760994\n",
            "  0.01999376 0.96665427 0.63154201 0.57558457]\n",
            " [0.62749221 0.95676274 0.60915168 0.80348047 0.31494037 0.79172377\n",
            "  0.97184034 0.64543617 0.86543425 0.8731183 ]\n",
            " [0.57450166 0.14896577 0.20496781 0.07575837 0.08576095 0.50642338\n",
            "  0.57456931 0.68700436 0.64898499 0.96709289]\n",
            " [0.63692812 0.01015746 0.81522428 0.82933148 0.3153709  0.4154516\n",
            "  0.59111691 0.18930635 0.03803894 0.44729589]\n",
            " [0.26829363 0.92372659 0.77234433 0.21766009 0.04747232 0.13062239\n",
            "  0.28354504 0.8121792  0.03421964 0.07408099]]\n",
            "Minimum value: 0.010157460681398667\n",
            "Maximum value: 0.9718403398142373\n",
            "\n",
            "Zero Array with 5th element as 1:\n",
            " [0. 0. 0. 0. 1. 0. 0. 0. 0. 0.]\n",
            "\n",
            "Reversed Array:\n",
            " [0 4 0 0 2 1]\n",
            "\n",
            "2D Array with 1 on the border and 0 inside:\n",
            " [[1. 1. 1. 1. 1.]\n",
            " [1. 0. 0. 0. 1.]\n",
            " [1. 0. 0. 0. 1.]\n",
            " [1. 0. 0. 0. 1.]\n",
            " [1. 1. 1. 1. 1.]]\n",
            "\n",
            "8x8 Checkerboard Pattern:\n",
            " [[0 1 0 1 0 1 0 1]\n",
            " [1 0 1 0 1 0 1 0]\n",
            " [0 1 0 1 0 1 0 1]\n",
            " [1 0 1 0 1 0 1 0]\n",
            " [0 1 0 1 0 1 0 1]\n",
            " [1 0 1 0 1 0 1 0]\n",
            " [0 1 0 1 0 1 0 1]\n",
            " [1 0 1 0 1 0 1 0]]\n"
          ]
        }
      ]
    },
    {
      "cell_type": "markdown",
      "source": [
        "Problem - 3: Array Operations:\n",
        "For the following arrays:\n",
        "x = np.array([[1,2],[3,5]]) and y = np.array([[5,6],[7,8]]);\n",
        "v = np.array([9,10]) and w = np.array([11,12]);\n",
        "Complete all the task using numpy:\n",
        "1. Add the two array.\n",
        "2. Subtract the two array.\n",
        "3. Multiply the array with any integers of your choice.\n",
        "4. Find the square of each element of the array.\n",
        "5. Find the dot product between: v(and)w ; x(and)v ; x(and)y.\n",
        "6. Concatenate x(and)y along row and Concatenate v(and)w along column.\n",
        "{Hint:try np.concatenate() or np.vstack() functions.\n",
        "7. Concatenate x(and)v; if you get an error, observe and explain why did you get the error?"
      ],
      "metadata": {
        "id": "-a9NS8qbuZPA"
      }
    },
    {
      "cell_type": "code",
      "source": [
        "import numpy as np\n",
        "\n",
        "# Define the arrays\n",
        "x = np.array([[1, 2], [3, 5]])\n",
        "y = np.array([[5, 6], [7, 8]])\n",
        "v = np.array([9, 10])\n",
        "w = np.array([11, 12])\n",
        "\n",
        "# 1. Adding the two arrays\n",
        "addition = x + y\n",
        "print(\"Addition of x and y:\\n\", addition)\n",
        "\n",
        "# 2. Subtracting the two arrays\n",
        "subtraction = x - y\n",
        "print(\"\\nSubtraction of x and y:\\n\", subtraction)\n",
        "\n",
        "# 3. Multiplying the array with an integer\n",
        "scaled_x = x * 3\n",
        "print(\"\\nMultiplication of x with 3:\\n\", scaled_x)\n",
        "\n",
        "# 4. Finding the square of each element of the array\n",
        "squared_x = np.square(x)\n",
        "print(\"\\nSquare of each element in x:\\n\", squared_x)\n",
        "\n",
        "# 5. Find the dot product:\n",
        "dot_vw = np.dot(v, w)\n",
        "print(\"\\nDot product of v and w:\", dot_vw)\n",
        "\n",
        "dot_xv = np.dot(x, v)\n",
        "print(\"Dot product of x and v:\\n\", dot_xv)\n",
        "\n",
        "dot_xy = np.dot(x, y)\n",
        "print(\"Dot product of x and y:\\n\", dot_xy)\n",
        "\n",
        "# 6. Concatenating x and y along rows and v and w along columns\n",
        "concat_xy = np.concatenate((x, y), axis=0)\n",
        "concat_vw = np.vstack((v, w))\n",
        "print(\"\\nConcatenation of x and y along rows:\\n\", concat_xy)\n",
        "print(\"Concatenation of v and w along columns:\\n\", concat_vw)\n",
        "\n",
        "# 7. Concatenating x and v; observe the error\n",
        "try:\n",
        "    concat_xv = np.concatenate((x, v), axis=0)\n",
        "    print(\"\\nConcatenation of x and v:\\n\", concat_xv)\n",
        "except ValueError as e:\n",
        "    print(\"\\nError in concatenating x and v:\", e)"
      ],
      "metadata": {
        "colab": {
          "base_uri": "https://localhost:8080/"
        },
        "id": "FB1xgZ28u3O-",
        "outputId": "257522ed-905d-4852-9bef-8bf5e38cebcf"
      },
      "execution_count": 3,
      "outputs": [
        {
          "output_type": "stream",
          "name": "stdout",
          "text": [
            "Addition of x and y:\n",
            " [[ 6  8]\n",
            " [10 13]]\n",
            "\n",
            "Subtraction of x and y:\n",
            " [[-4 -4]\n",
            " [-4 -3]]\n",
            "\n",
            "Multiplication of x with 3:\n",
            " [[ 3  6]\n",
            " [ 9 15]]\n",
            "\n",
            "Square of each element in x:\n",
            " [[ 1  4]\n",
            " [ 9 25]]\n",
            "\n",
            "Dot product of v and w: 219\n",
            "Dot product of x and v:\n",
            " [29 77]\n",
            "Dot product of x and y:\n",
            " [[19 22]\n",
            " [50 58]]\n",
            "\n",
            "Concatenation of x and y along rows:\n",
            " [[1 2]\n",
            " [3 5]\n",
            " [5 6]\n",
            " [7 8]]\n",
            "Concatenation of v and w along columns:\n",
            " [[ 9 10]\n",
            " [11 12]]\n",
            "\n",
            "Error in concatenating x and v: all the input arrays must have same number of dimensions, but the array at index 0 has 2 dimension(s) and the array at index 1 has 1 dimension(s)\n"
          ]
        }
      ]
    },
    {
      "cell_type": "markdown",
      "source": [
        "Problem - 4: Matrix Operations:\n",
        "• For the following arrays:\n",
        "A = np.array([[3,4],[7,8]]) and B = np.array([[5,3],[2,1]]);\n",
        "Prove following with Numpy:\n",
        "1. Prove A.A−1 = I.\n",
        "2. Prove AB ̸= BA.\n",
        "3. Prove (AB)\n",
        "\n",
        "T = BTAT\n",
        ".\n",
        "\n",
        "• Solve the following system of Linear equation using Inverse Methods.\n",
        "\n",
        "2x − 3y + z = −1\n",
        "x − y + 2z = −3\n",
        "3x + y − z = 9\n",
        "\n",
        "{Hint: First use Numpy array to represent the equation in Matrix form. Then Solve for: AX = B}\n",
        "• Now: solve the above equation using np.linalg.inv function.{Explore more about ”linalg” function\n",
        "of Numpy}"
      ],
      "metadata": {
        "id": "wms0afu4wASY"
      }
    },
    {
      "cell_type": "code",
      "source": [
        "import numpy as np\n",
        "\n",
        "# Given Matrices\n",
        "A = np.array([[3, 4], [7, 8]])\n",
        "B = np.array([[5, 3], [2, 1]])\n",
        "\n",
        "# 1. Prove A.A⁻¹ = I\n",
        "A_inv = np.linalg.inv(A)\n",
        "identity_matrix = np.dot(A, A_inv)\n",
        "print(\"A.A⁻¹ = I:\\n\", identity_matrix)\n",
        "\n",
        "# Round to eliminate numerical precision errors\n",
        "identity_matrix_rounded = np.round(identity_matrix, decimals=10)\n",
        "print(\"\\nRounded Identity Matrix:\\n\", identity_matrix_rounded)\n",
        "\n",
        "# 2. Prove AB ≠ BA\n",
        "AB = np.dot(A, B)\n",
        "BA = np.dot(B, A)\n",
        "print(\"\\nAB:\\n\", AB)\n",
        "print(\"\\nBA:\\n\", BA)\n",
        "print(\"\\nAB ≠ BA:\", not np.array_equal(AB, BA))\n",
        "\n",
        "# 3. Prove (AB)ᵀ = BᵀAᵀ\n",
        "AB_transpose = np.transpose(AB)\n",
        "BT_AT = np.dot(B.T, A.T)\n",
        "print(\"\\n(AB)ᵀ:\\n\", AB_transpose)\n",
        "print(\"\\nBᵀAᵀ:\\n\", BT_AT)\n",
        "print(\"\\n(AB)ᵀ == BᵀAᵀ:\", np.array_equal(AB_transpose, BT_AT))"
      ],
      "metadata": {
        "colab": {
          "base_uri": "https://localhost:8080/"
        },
        "id": "vpy6aFcgwEAv",
        "outputId": "7b95956f-d6a6-48a6-9a91-b3ef2bd1d26b"
      },
      "execution_count": 4,
      "outputs": [
        {
          "output_type": "stream",
          "name": "stdout",
          "text": [
            "A.A⁻¹ = I:\n",
            " [[1.00000000e+00 0.00000000e+00]\n",
            " [1.77635684e-15 1.00000000e+00]]\n",
            "\n",
            "Rounded Identity Matrix:\n",
            " [[1. 0.]\n",
            " [0. 1.]]\n",
            "\n",
            "AB:\n",
            " [[23 13]\n",
            " [51 29]]\n",
            "\n",
            "BA:\n",
            " [[36 44]\n",
            " [13 16]]\n",
            "\n",
            "AB ≠ BA: True\n",
            "\n",
            "(AB)ᵀ:\n",
            " [[23 51]\n",
            " [13 29]]\n",
            "\n",
            "BᵀAᵀ:\n",
            " [[23 51]\n",
            " [13 29]]\n",
            "\n",
            "(AB)ᵀ == BᵀAᵀ: True\n"
          ]
        }
      ]
    },
    {
      "cell_type": "markdown",
      "source": [
        "4.2  Experiment: How Fast is Numpy? In this exercise, you will compare the performance and implementation of operations using plain Python lists (arrays) and NumPy arrays. Follow the instructions:\n",
        "\n",
        "  Element-wise Addition: • Using Python Lists, perform element-wise addition of two lists of size 1, 000, 000. Measure and Print the time taken for this operation. • Using Numpy Arrays, Repeat the calculation and measure and print the time taken for this operation."
      ],
      "metadata": {
        "id": "sppt21FiwXT_"
      }
    },
    {
      "cell_type": "code",
      "source": [
        "import numpy as np\n",
        "import time\n",
        "\n",
        "# Helper function to measure execution time\n",
        "def measure_time(func, *args):\n",
        "    start = time.time()\n",
        "    result = func(*args)\n",
        "    end = time.time()\n",
        "    return result, end - start\n",
        "\n",
        "# 1. Element-wise Addition\n",
        "# Python lists\n",
        "size = 1_000_000\n",
        "list1 = list(range(size))\n",
        "list2 = list(range(size))\n",
        "\n",
        "def python_addition(a, b):\n",
        "    return [a[i] + b[i] for i in range(len(a))]\n",
        "\n",
        "_, python_add_time = measure_time(python_addition, list1, list2)\n",
        "print(f\"Python List Addition Time: {python_add_time:.5f} seconds\")\n",
        "\n",
        "# NumPy arrays\n",
        "array1 = np.arange(size)\n",
        "array2 = np.arange(size)\n",
        "\n",
        "def numpy_addition(a, b):\n",
        "    return a + b\n",
        "\n",
        "_, numpy_add_time = measure_time(numpy_addition, array1, array2)\n",
        "print(f\"NumPy Array Addition Time: {numpy_add_time:.5f} seconds\")"
      ],
      "metadata": {
        "colab": {
          "base_uri": "https://localhost:8080/"
        },
        "id": "ggWu_ddTwhz_",
        "outputId": "9edf302d-8899-47b6-a02e-950a4040785b"
      },
      "execution_count": 5,
      "outputs": [
        {
          "output_type": "stream",
          "name": "stdout",
          "text": [
            "Python List Addition Time: 0.14103 seconds\n",
            "NumPy Array Addition Time: 0.00723 seconds\n"
          ]
        }
      ]
    },
    {
      "cell_type": "markdown",
      "source": [
        "2. Element-wise Multiplication\n",
        "• Using Python Lists, perform element-wise multiplication of two lists of size 1, 000, 000. Mea- sure and Print the time taken for this operation.\n",
        "\n",
        "  • Using Numpy Arrays, Repeat the calculation and measure and print the time taken for this operation."
      ],
      "metadata": {
        "id": "vllvY0xVwxLF"
      }
    },
    {
      "cell_type": "code",
      "source": [
        "import numpy as np\n",
        "import time\n",
        "\n",
        "def measure_time(func, *args):\n",
        "    start = time.time()\n",
        "    result = func(*args)\n",
        "    end = time.time()\n",
        "    return result, end - start\n",
        "\n",
        "size = 1_000_000\n",
        "list1 = list(range(size))\n",
        "list2 = list(range(size))\n",
        "\n",
        "array1 = np.arange(size)\n",
        "array2 = np.arange(size)\n",
        "\n",
        "# Python list multiplication\n",
        "def python_multiplication(a, b):\n",
        "    return [a[i] * b[i] for i in range(len(a))]\n",
        "\n",
        "_, python_mul_time = measure_time(python_multiplication, list1, list2)\n",
        "print(f\"Python List Multiplication Time: {python_mul_time:.5f} seconds\")\n",
        "\n",
        "# NumPy array multiplication\n",
        "def numpy_multiplication(a, b):\n",
        "    return a * b\n",
        "\n",
        "_, numpy_mul_time = measure_time(numpy_multiplication, array1, array2)\n",
        "print(f\"NumPy Array Multiplication Time: {numpy_mul_time:.5f} seconds\")"
      ],
      "metadata": {
        "colab": {
          "base_uri": "https://localhost:8080/"
        },
        "id": "3VmWf0Law55u",
        "outputId": "01255c70-fb73-46f8-85f7-b2a5f3f1f676"
      },
      "execution_count": 6,
      "outputs": [
        {
          "output_type": "stream",
          "name": "stdout",
          "text": [
            "Python List Multiplication Time: 0.14990 seconds\n",
            "NumPy Array Multiplication Time: 0.00492 seconds\n"
          ]
        }
      ]
    },
    {
      "cell_type": "markdown",
      "source": [
        "3. Dot Product\n",
        "• Using Python Lists, compute the dot product of two lists of size 1, 000, 000. Measure and Print the time taken for this operation. • Using Numpy Arrays, Repeat the calculation and measure and print the time taken for this operation."
      ],
      "metadata": {
        "id": "dYqXI_BCxcme"
      }
    },
    {
      "cell_type": "code",
      "source": [
        "import numpy as np\n",
        "import time\n",
        "def python_dot_product(a, b):\n",
        "    return sum(a[i] * b[i] for i in range(len(a)))\n",
        "\n",
        "_, python_dot_time = measure_time(python_dot_product, list1, list2)\n",
        "print(f\"Python List Dot Product Time: {python_dot_time:.5f} seconds\")\n",
        "\n",
        "# NumPy arrays\n",
        "def numpy_dot_product(a, b):\n",
        "    return np.dot(a, b)\n",
        "\n",
        "_, numpy_dot_time = measure_time(numpy_dot_product, array1, array2)\n",
        "print(f\"NumPy Array Dot Product Time: {numpy_dot_time:.5f} seconds\")"
      ],
      "metadata": {
        "colab": {
          "base_uri": "https://localhost:8080/"
        },
        "id": "i_UZlzwmxeAu",
        "outputId": "68bd2bd5-e251-4cc6-aebc-0f28b4c9a1ba"
      },
      "execution_count": 7,
      "outputs": [
        {
          "output_type": "stream",
          "name": "stdout",
          "text": [
            "Python List Dot Product Time: 0.14835 seconds\n",
            "NumPy Array Dot Product Time: 0.00193 seconds\n"
          ]
        }
      ]
    },
    {
      "cell_type": "markdown",
      "source": [
        "4. Matrix Multiplication\n",
        "• Using Python lists, perform matrix multiplication of two matrices of size 1000x1000. Measure and print the time taken for this operation.\n",
        "\n",
        "• Using NumPy arrays, perform matrix multiplication of two matrices of size 1000x1000. Mea- sure and print the time taken for this operation."
      ],
      "metadata": {
        "id": "f8QhEb66xhhN"
      }
    },
    {
      "cell_type": "code",
      "source": [
        "import numpy as np\n",
        "import time\n",
        "\n",
        "def measure_time(func, *args):\n",
        "    start = time.time()\n",
        "    result = func(*args)\n",
        "    end = time.time()\n",
        "    return result, end - start\n",
        "\n",
        "size = 1_000_000\n",
        "list1 = list(range(size))\n",
        "list2 = list(range(size))\n",
        "\n",
        "array1 = np.arange(size)\n",
        "array2 = np.arange(size)\n",
        "\n",
        "# Python list multiplication\n",
        "def python_multiplication(a, b):\n",
        "    return [a[i] * b[i] for i in range(len(a))]\n",
        "\n",
        "_, python_mul_time = measure_time(python_multiplication, list1, list2)\n",
        "print(f\"Python List Multiplication Time: {python_mul_time:.5f} seconds\")\n",
        "\n",
        "# NumPy array multiplication\n",
        "def numpy_multiplication(a, b):\n",
        "    return a * b\n",
        "\n",
        "_, numpy_mul_time = measure_time(numpy_multiplication, array1, array2)\n",
        "print(f\"NumPy Array Multiplication Time: {numpy_mul_time:.5f} seconds\")"
      ],
      "metadata": {
        "colab": {
          "base_uri": "https://localhost:8080/"
        },
        "id": "jhk_DqA7xki9",
        "outputId": "05281941-449e-4041-843f-71e3608eaa7a"
      },
      "execution_count": 8,
      "outputs": [
        {
          "output_type": "stream",
          "name": "stdout",
          "text": [
            "Python List Multiplication Time: 0.15934 seconds\n",
            "NumPy Array Multiplication Time: 0.00259 seconds\n"
          ]
        }
      ]
    }
  ]
}