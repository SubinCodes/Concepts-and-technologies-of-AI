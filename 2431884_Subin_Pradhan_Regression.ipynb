{
  "cells": [
    {
      "cell_type": "code",
      "execution_count": null,
      "id": "8fc7299c",
      "metadata": {
        "id": "8fc7299c"
      },
      "outputs": [],
      "source": [
        "import pandas as pd\n",
        "import numpy as np\n",
        "\n",
        "# Load the dataset\n",
        "file_path = \"/content/drive/MyDrive/Datasets/depression_dataset.csv\"\n",
        "df = pd.read_csv(file_path)\n"
      ]
    },
    {
      "cell_type": "code",
      "execution_count": null,
      "id": "0698f989",
      "metadata": {
        "id": "0698f989",
        "outputId": "3b933b5d-4423-43e7-e31b-1c4c88ce3b8c"
      },
      "outputs": [
        {
          "data": {
            "text/html": [
              "<div>\n",
              "<style scoped>\n",
              "    .dataframe tbody tr th:only-of-type {\n",
              "        vertical-align: middle;\n",
              "    }\n",
              "\n",
              "    .dataframe tbody tr th {\n",
              "        vertical-align: top;\n",
              "    }\n",
              "\n",
              "    .dataframe thead th {\n",
              "        text-align: right;\n",
              "    }\n",
              "</style>\n",
              "<table border=\"1\" class=\"dataframe\">\n",
              "  <thead>\n",
              "    <tr style=\"text-align: right;\">\n",
              "      <th></th>\n",
              "      <th>Name</th>\n",
              "      <th>Age</th>\n",
              "      <th>Marital Status</th>\n",
              "      <th>Education Level</th>\n",
              "      <th>Number of Children</th>\n",
              "      <th>Smoking Status</th>\n",
              "      <th>Physical Activity Level</th>\n",
              "      <th>Employment Status</th>\n",
              "      <th>Income</th>\n",
              "      <th>Alcohol Consumption</th>\n",
              "      <th>Dietary Habits</th>\n",
              "      <th>Sleep Patterns</th>\n",
              "      <th>History of Mental Illness</th>\n",
              "      <th>History of Substance Abuse</th>\n",
              "      <th>Family History of Depression</th>\n",
              "      <th>Chronic Medical Conditions</th>\n",
              "    </tr>\n",
              "  </thead>\n",
              "  <tbody>\n",
              "    <tr>\n",
              "      <th>0</th>\n",
              "      <td>Christine Barker</td>\n",
              "      <td>31</td>\n",
              "      <td>Married</td>\n",
              "      <td>Bachelor's Degree</td>\n",
              "      <td>2.0</td>\n",
              "      <td>Non-smoker</td>\n",
              "      <td>NaN</td>\n",
              "      <td>Unemployed</td>\n",
              "      <td>26265.67</td>\n",
              "      <td>Moderate</td>\n",
              "      <td>Moderate</td>\n",
              "      <td>Fair</td>\n",
              "      <td>NaN</td>\n",
              "      <td>No</td>\n",
              "      <td>Yes</td>\n",
              "      <td>Yes</td>\n",
              "    </tr>\n",
              "    <tr>\n",
              "      <th>1</th>\n",
              "      <td>Jacqueline Lewis</td>\n",
              "      <td>55</td>\n",
              "      <td>Married</td>\n",
              "      <td>NaN</td>\n",
              "      <td>1.0</td>\n",
              "      <td>Non-smoker</td>\n",
              "      <td>Sedentary</td>\n",
              "      <td>NaN</td>\n",
              "      <td>42710.36</td>\n",
              "      <td>High</td>\n",
              "      <td>NaN</td>\n",
              "      <td>Fair</td>\n",
              "      <td>Yes</td>\n",
              "      <td>NaN</td>\n",
              "      <td>No</td>\n",
              "      <td>Yes</td>\n",
              "    </tr>\n",
              "    <tr>\n",
              "      <th>2</th>\n",
              "      <td>Shannon Church</td>\n",
              "      <td>78</td>\n",
              "      <td>Widowed</td>\n",
              "      <td>Master's Degree</td>\n",
              "      <td>1.0</td>\n",
              "      <td>Non-smoker</td>\n",
              "      <td>Sedentary</td>\n",
              "      <td>Employed</td>\n",
              "      <td>125332.79</td>\n",
              "      <td>Low</td>\n",
              "      <td>NaN</td>\n",
              "      <td>Good</td>\n",
              "      <td>No</td>\n",
              "      <td>No</td>\n",
              "      <td>Yes</td>\n",
              "      <td>No</td>\n",
              "    </tr>\n",
              "    <tr>\n",
              "      <th>3</th>\n",
              "      <td>Charles Jordan</td>\n",
              "      <td>58</td>\n",
              "      <td>Divorced</td>\n",
              "      <td>Master's Degree</td>\n",
              "      <td>3.0</td>\n",
              "      <td>Non-smoker</td>\n",
              "      <td>Moderate</td>\n",
              "      <td>NaN</td>\n",
              "      <td>9992.78</td>\n",
              "      <td>NaN</td>\n",
              "      <td>Moderate</td>\n",
              "      <td>Poor</td>\n",
              "      <td>No</td>\n",
              "      <td>No</td>\n",
              "      <td>No</td>\n",
              "      <td>No</td>\n",
              "    </tr>\n",
              "    <tr>\n",
              "      <th>4</th>\n",
              "      <td>Michael Rich</td>\n",
              "      <td>18</td>\n",
              "      <td>Single</td>\n",
              "      <td>High School</td>\n",
              "      <td>0.0</td>\n",
              "      <td>Non-smoker</td>\n",
              "      <td>Sedentary</td>\n",
              "      <td>Unemployed</td>\n",
              "      <td>8595.08</td>\n",
              "      <td>NaN</td>\n",
              "      <td>Moderate</td>\n",
              "      <td>Fair</td>\n",
              "      <td>Yes</td>\n",
              "      <td>No</td>\n",
              "      <td>Yes</td>\n",
              "      <td>Yes</td>\n",
              "    </tr>\n",
              "  </tbody>\n",
              "</table>\n",
              "</div>"
            ],
            "text/plain": [
              "               Name  Age Marital Status    Education Level  \\\n",
              "0  Christine Barker   31        Married  Bachelor's Degree   \n",
              "1  Jacqueline Lewis   55        Married                NaN   \n",
              "2    Shannon Church   78        Widowed    Master's Degree   \n",
              "3    Charles Jordan   58       Divorced    Master's Degree   \n",
              "4      Michael Rich   18         Single        High School   \n",
              "\n",
              "   Number of Children Smoking Status Physical Activity Level  \\\n",
              "0                 2.0     Non-smoker                     NaN   \n",
              "1                 1.0     Non-smoker               Sedentary   \n",
              "2                 1.0     Non-smoker               Sedentary   \n",
              "3                 3.0     Non-smoker                Moderate   \n",
              "4                 0.0     Non-smoker               Sedentary   \n",
              "\n",
              "  Employment Status     Income Alcohol Consumption Dietary Habits  \\\n",
              "0        Unemployed   26265.67            Moderate       Moderate   \n",
              "1               NaN   42710.36                High            NaN   \n",
              "2          Employed  125332.79                 Low            NaN   \n",
              "3               NaN    9992.78                 NaN       Moderate   \n",
              "4        Unemployed    8595.08                 NaN       Moderate   \n",
              "\n",
              "  Sleep Patterns History of Mental Illness History of Substance Abuse  \\\n",
              "0           Fair                       NaN                         No   \n",
              "1           Fair                       Yes                        NaN   \n",
              "2           Good                        No                         No   \n",
              "3           Poor                        No                         No   \n",
              "4           Fair                       Yes                         No   \n",
              "\n",
              "  Family History of Depression Chronic Medical Conditions  \n",
              "0                          Yes                        Yes  \n",
              "1                           No                        Yes  \n",
              "2                          Yes                         No  \n",
              "3                           No                         No  \n",
              "4                          Yes                        Yes  "
            ]
          },
          "execution_count": 51,
          "metadata": {},
          "output_type": "execute_result"
        }
      ],
      "source": [
        "df.head()"
      ]
    },
    {
      "cell_type": "code",
      "execution_count": null,
      "id": "5f87d3af",
      "metadata": {
        "id": "5f87d3af",
        "outputId": "b15cba44-ba3c-49dd-fe82-c2842c67f2e3"
      },
      "outputs": [
        {
          "data": {
            "text/html": [
              "<div>\n",
              "<style scoped>\n",
              "    .dataframe tbody tr th:only-of-type {\n",
              "        vertical-align: middle;\n",
              "    }\n",
              "\n",
              "    .dataframe tbody tr th {\n",
              "        vertical-align: top;\n",
              "    }\n",
              "\n",
              "    .dataframe thead th {\n",
              "        text-align: right;\n",
              "    }\n",
              "</style>\n",
              "<table border=\"1\" class=\"dataframe\">\n",
              "  <thead>\n",
              "    <tr style=\"text-align: right;\">\n",
              "      <th></th>\n",
              "      <th>Age</th>\n",
              "      <th>Number of Children</th>\n",
              "      <th>Income</th>\n",
              "    </tr>\n",
              "  </thead>\n",
              "  <tbody>\n",
              "    <tr>\n",
              "      <th>count</th>\n",
              "      <td>413768.000000</td>\n",
              "      <td>349362.000000</td>\n",
              "      <td>413768.000000</td>\n",
              "    </tr>\n",
              "    <tr>\n",
              "      <th>mean</th>\n",
              "      <td>49.000713</td>\n",
              "      <td>1.298264</td>\n",
              "      <td>50661.707971</td>\n",
              "    </tr>\n",
              "    <tr>\n",
              "      <th>std</th>\n",
              "      <td>18.158759</td>\n",
              "      <td>1.236513</td>\n",
              "      <td>40624.100565</td>\n",
              "    </tr>\n",
              "    <tr>\n",
              "      <th>min</th>\n",
              "      <td>18.000000</td>\n",
              "      <td>0.000000</td>\n",
              "      <td>0.410000</td>\n",
              "    </tr>\n",
              "    <tr>\n",
              "      <th>25%</th>\n",
              "      <td>33.000000</td>\n",
              "      <td>0.000000</td>\n",
              "      <td>21001.030000</td>\n",
              "    </tr>\n",
              "    <tr>\n",
              "      <th>50%</th>\n",
              "      <td>49.000000</td>\n",
              "      <td>1.000000</td>\n",
              "      <td>37520.135000</td>\n",
              "    </tr>\n",
              "    <tr>\n",
              "      <th>75%</th>\n",
              "      <td>65.000000</td>\n",
              "      <td>2.000000</td>\n",
              "      <td>76616.300000</td>\n",
              "    </tr>\n",
              "    <tr>\n",
              "      <th>max</th>\n",
              "      <td>80.000000</td>\n",
              "      <td>4.000000</td>\n",
              "      <td>209995.220000</td>\n",
              "    </tr>\n",
              "  </tbody>\n",
              "</table>\n",
              "</div>"
            ],
            "text/plain": [
              "                 Age  Number of Children         Income\n",
              "count  413768.000000       349362.000000  413768.000000\n",
              "mean       49.000713            1.298264   50661.707971\n",
              "std        18.158759            1.236513   40624.100565\n",
              "min        18.000000            0.000000       0.410000\n",
              "25%        33.000000            0.000000   21001.030000\n",
              "50%        49.000000            1.000000   37520.135000\n",
              "75%        65.000000            2.000000   76616.300000\n",
              "max        80.000000            4.000000  209995.220000"
            ]
          },
          "execution_count": 52,
          "metadata": {},
          "output_type": "execute_result"
        }
      ],
      "source": [
        "df.describe()"
      ]
    },
    {
      "cell_type": "code",
      "execution_count": null,
      "id": "93f5cfab",
      "metadata": {
        "id": "93f5cfab",
        "outputId": "8bbc6947-e743-477d-842c-129123ba3483"
      },
      "outputs": [
        {
          "name": "stdout",
          "output_type": "stream",
          "text": [
            "Index(['Name', 'Age', 'Marital Status', 'Education Level',\n",
            "       'Number of Children', 'Smoking Status', 'Physical Activity Level',\n",
            "       'Employment Status', 'Income', 'Alcohol Consumption', 'Dietary Habits',\n",
            "       'Sleep Patterns', 'History of Mental Illness',\n",
            "       'History of Substance Abuse', 'Family History of Depression',\n",
            "       'Chronic Medical Conditions'],\n",
            "      dtype='object')\n"
          ]
        }
      ],
      "source": [
        "print(df.columns)  # See all available column names\n"
      ]
    },
    {
      "cell_type": "code",
      "execution_count": null,
      "id": "e627450a",
      "metadata": {
        "id": "e627450a"
      },
      "outputs": [],
      "source": [
        "df.columns = df.columns.str.strip()  # Removes leading/trailing spaces\n"
      ]
    },
    {
      "cell_type": "code",
      "execution_count": null,
      "id": "78e7585b",
      "metadata": {
        "id": "78e7585b",
        "outputId": "fd8605d0-f829-4858-b8e6-89c832784cd3"
      },
      "outputs": [
        {
          "name": "stdout",
          "output_type": "stream",
          "text": [
            "<class 'pandas.core.frame.DataFrame'>\n",
            "RangeIndex: 413768 entries, 0 to 413767\n",
            "Data columns (total 16 columns):\n",
            " #   Column                        Non-Null Count   Dtype  \n",
            "---  ------                        --------------   -----  \n",
            " 0   Name                          413768 non-null  object \n",
            " 1   Age                           413768 non-null  int64  \n",
            " 2   Marital Status                369834 non-null  object \n",
            " 3   Education Level               369775 non-null  object \n",
            " 4   Number of Children            349362 non-null  float64\n",
            " 5   Smoking Status                386889 non-null  object \n",
            " 6   Physical Activity Level       356501 non-null  object \n",
            " 7   Employment Status             344309 non-null  object \n",
            " 8   Income                        413768 non-null  float64\n",
            " 9   Alcohol Consumption           371932 non-null  object \n",
            " 10  Dietary Habits                349156 non-null  object \n",
            " 11  Sleep Patterns                378585 non-null  object \n",
            " 12  History of Mental Illness     353522 non-null  object \n",
            " 13  History of Substance Abuse    337498 non-null  object \n",
            " 14  Family History of Depression  387455 non-null  object \n",
            " 15  Chronic Medical Conditions    389576 non-null  object \n",
            "dtypes: float64(2), int64(1), object(13)\n",
            "memory usage: 50.5+ MB\n"
          ]
        }
      ],
      "source": [
        "df.info()"
      ]
    },
    {
      "cell_type": "code",
      "execution_count": null,
      "id": "7c2a95ac",
      "metadata": {
        "id": "7c2a95ac",
        "outputId": "fcb38e7f-960b-4cb7-e8e1-9e615812df90"
      },
      "outputs": [
        {
          "data": {
            "text/plain": [
              "Name                                0\n",
              "Age                                 0\n",
              "Marital Status                  43934\n",
              "Education Level                 43993\n",
              "Number of Children              64406\n",
              "Smoking Status                  26879\n",
              "Physical Activity Level         57267\n",
              "Employment Status               69459\n",
              "Income                              0\n",
              "Alcohol Consumption             41836\n",
              "Dietary Habits                  64612\n",
              "Sleep Patterns                  35183\n",
              "History of Mental Illness       60246\n",
              "History of Substance Abuse      76270\n",
              "Family History of Depression    26313\n",
              "Chronic Medical Conditions      24192\n",
              "dtype: int64"
            ]
          },
          "execution_count": 56,
          "metadata": {},
          "output_type": "execute_result"
        }
      ],
      "source": [
        "df.isnull().sum() # lists the null counts"
      ]
    },
    {
      "cell_type": "code",
      "execution_count": null,
      "id": "4be4d25d",
      "metadata": {
        "id": "4be4d25d",
        "outputId": "54f6705f-92d2-4222-edd7-bb97a1c57567"
      },
      "outputs": [
        {
          "data": {
            "image/png": "[encoded data removed]",
            "text/plain": [
              "<Figure size 1200x800 with 1 Axes>"
            ]
          },
          "metadata": {},
          "output_type": "display_data"
        }
      ],
      "source": [
        "import seaborn as sns\n",
        "import matplotlib.pyplot as plt\n",
        "\n",
        "# Assuming 'data' is your DataFrame\n",
        "plt.figure(figsize=(12, 8))\n",
        "\n",
        "# Visualize null values as a heatmap\n",
        "sns.heatmap(df.isnull(), cbar=False, cmap='viridis', yticklabels=False, xticklabels=True)\n",
        "\n",
        "plt.title('Null Value Heatmap')\n",
        "plt.show()\n"
      ]
    },
    {
      "cell_type": "code",
      "execution_count": null,
      "id": "392d1283",
      "metadata": {
        "id": "392d1283",
        "outputId": "6c6ce69e-3e7f-4946-bfc3-6b54fcc79b82"
      },
      "outputs": [
        {
          "data": {
            "image/png": "[encoded data removed]",
            "text/plain": [
              "<Figure size 1400x1000 with 4 Axes>"
            ]
          },
          "metadata": {},
          "output_type": "display_data"
        }
      ],
      "source": [
        "# Plot histograms for all features\n",
        "df.hist(figsize=(14, 10), bins=30)\n",
        "plt.suptitle('Histograms of Features', fontsize=16)\n",
        "plt.show()\n"
      ]
    },
    {
      "cell_type": "code",
      "execution_count": null,
      "id": "8a7c446b",
      "metadata": {
        "id": "8a7c446b",
        "outputId": "7ce81774-13dd-413f-a8ad-fe8d43031e04"
      },
      "outputs": [
        {
          "name": "stderr",
          "output_type": "stream",
          "text": [
            "C:\\Users\\Acer\\AppData\\Local\\Temp\\ipykernel_15840\\2715741918.py:5: FutureWarning: The default value of numeric_only in DataFrame.corr is deprecated. In a future version, it will default to False. Select only valid columns or specify the value of numeric_only to silence this warning.\n",
            "  correlation_matrix = df.corr()\n"
          ]
        },
        {
          "data": {
            "image/png": "[encoded data removed]",
            "text/plain": [
              "<Figure size 1200x800 with 2 Axes>"
            ]
          },
          "metadata": {},
          "output_type": "display_data"
        }
      ],
      "source": [
        "\n",
        "import seaborn as sns\n",
        "import matplotlib.pyplot as plt\n",
        "\n",
        "# Calculate correlation matrix\n",
        "correlation_matrix = df.corr()\n",
        "\n",
        "# Plot heatmap\n",
        "plt.figure(figsize=(12, 8))\n",
        "sns.heatmap(correlation_matrix, annot=True, cmap='coolwarm', fmt='.2f', cbar=True)\n",
        "plt.title('Correlation Heatmap')\n",
        "plt.show()\n"
      ]
    },
    {
      "cell_type": "markdown",
      "id": "c6ffd4ba",
      "metadata": {
        "id": "c6ffd4ba"
      },
      "source": [
        "# Handling missing values"
      ]
    },
    {
      "cell_type": "code",
      "execution_count": null,
      "id": "3be63a8b",
      "metadata": {
        "id": "3be63a8b"
      },
      "outputs": [],
      "source": [
        "# Handling missing numerical values (fill with median)\n",
        "num_cols = [\"Age\", \"Number of Children\"]\n",
        "for col in num_cols:\n",
        "    df[col].fillna(df[col].median(), inplace=True)\n",
        "\n",
        "# Handling missing categorical values (fill with mode)\n",
        "cat_cols = [\"Marital Status\", \"Education Level\", \"Smoking Status\", \"Physical Activity Level\",\n",
        "            \"Employment Status\", \"Alcohol Consumption\", \"Dietary Habits\", \"Sleep Patterns\",\n",
        "            \"History of Mental Illness\", \"History of Substance Abuse\",\n",
        "            \"Family History of Depression\", \"Chronic Medical Conditions\"]\n",
        "\n",
        "for col in cat_cols:\n",
        "    df[col].fillna(df[col].mode()[0], inplace=True)\n"
      ]
    },
    {
      "cell_type": "code",
      "execution_count": null,
      "id": "c1a5d758",
      "metadata": {
        "id": "c1a5d758",
        "outputId": "3e8f2610-07bd-48dc-fc83-cb938c9a6979"
      },
      "outputs": [
        {
          "data": {
            "text/plain": [
              "Name                            0\n",
              "Age                             0\n",
              "Marital Status                  0\n",
              "Education Level                 0\n",
              "Number of Children              0\n",
              "Smoking Status                  0\n",
              "Physical Activity Level         0\n",
              "Employment Status               0\n",
              "Income                          0\n",
              "Alcohol Consumption             0\n",
              "Dietary Habits                  0\n",
              "Sleep Patterns                  0\n",
              "History of Mental Illness       0\n",
              "History of Substance Abuse      0\n",
              "Family History of Depression    0\n",
              "Chronic Medical Conditions      0\n",
              "dtype: int64"
            ]
          },
          "execution_count": 65,
          "metadata": {},
          "output_type": "execute_result"
        }
      ],
      "source": [
        "df.isnull().sum()"
      ]
    },
    {
      "cell_type": "markdown",
      "id": "b51b3806",
      "metadata": {
        "id": "b51b3806"
      },
      "source": [
        "## Encoding the categorical columns"
      ]
    },
    {
      "cell_type": "code",
      "execution_count": null,
      "id": "270f65df",
      "metadata": {
        "id": "270f65df"
      },
      "outputs": [],
      "source": [
        "from sklearn.preprocessing import LabelEncoder\n",
        "\n",
        "# Label Encoding for ordinal categorical features\n",
        "encoder = LabelEncoder()\n",
        "df[\"Education Level\"] = encoder.fit_transform(df[\"Education Level\"])\n",
        "\n",
        "# One-Hot Encoding for nominal categorical variables\n",
        "df = pd.get_dummies(df, columns=[\"Marital Status\", \"Smoking Status\", \"Physical Activity Level\",\n",
        "                                  \"Employment Status\", \"Alcohol Consumption\", \"Dietary Habits\",\n",
        "                                  \"Sleep Patterns\", \"History of Mental Illness\",\n",
        "                                  \"History of Substance Abuse\", \"Family History of Depression\",\n",
        "                                  \"Chronic Medical Conditions\"], drop_first=True)\n"
      ]
    },
    {
      "cell_type": "markdown",
      "id": "eb2406f0",
      "metadata": {
        "id": "eb2406f0"
      },
      "source": [
        "### removing irrelavant features"
      ]
    },
    {
      "cell_type": "code",
      "execution_count": null,
      "id": "c33e5653",
      "metadata": {
        "id": "c33e5653"
      },
      "outputs": [],
      "source": [
        "df.drop(columns=[\"Name\"], inplace=True)\n"
      ]
    },
    {
      "cell_type": "markdown",
      "id": "883755b4",
      "metadata": {
        "id": "883755b4"
      },
      "source": [
        "# Correlation analysis"
      ]
    },
    {
      "cell_type": "code",
      "execution_count": null,
      "id": "3a8c2fd6",
      "metadata": {
        "id": "3a8c2fd6"
      },
      "outputs": [],
      "source": [
        "\n"
      ]
    },
    {
      "cell_type": "code",
      "execution_count": null,
      "id": "367c0250",
      "metadata": {
        "id": "367c0250"
      },
      "outputs": [],
      "source": []
    },
    {
      "cell_type": "code",
      "execution_count": null,
      "id": "dc42b4e2",
      "metadata": {
        "id": "dc42b4e2",
        "outputId": "05e018f5-1954-4f33-c584-c4a2c4d4ae9a"
      },
      "outputs": [
        {
          "data": {
            "text/html": [
              "<div>\n",
              "<style scoped>\n",
              "    .dataframe tbody tr th:only-of-type {\n",
              "        vertical-align: middle;\n",
              "    }\n",
              "\n",
              "    .dataframe tbody tr th {\n",
              "        vertical-align: top;\n",
              "    }\n",
              "\n",
              "    .dataframe thead th {\n",
              "        text-align: right;\n",
              "    }\n",
              "</style>\n",
              "<table border=\"1\" class=\"dataframe\">\n",
              "  <thead>\n",
              "    <tr style=\"text-align: right;\">\n",
              "      <th></th>\n",
              "      <th>Age</th>\n",
              "      <th>Education Level</th>\n",
              "      <th>Number of Children</th>\n",
              "      <th>Income</th>\n",
              "      <th>Marital Status_Married</th>\n",
              "      <th>Marital Status_Single</th>\n",
              "      <th>Marital Status_Widowed</th>\n",
              "      <th>Smoking Status_Former</th>\n",
              "      <th>Smoking Status_Non-smoker</th>\n",
              "      <th>Physical Activity Level_Moderate</th>\n",
              "      <th>...</th>\n",
              "      <th>Alcohol Consumption_Low</th>\n",
              "      <th>Alcohol Consumption_Moderate</th>\n",
              "      <th>Dietary Habits_Moderate</th>\n",
              "      <th>Dietary Habits_Unhealthy</th>\n",
              "      <th>Sleep Patterns_Good</th>\n",
              "      <th>Sleep Patterns_Poor</th>\n",
              "      <th>History of Mental Illness_Yes</th>\n",
              "      <th>History of Substance Abuse_Yes</th>\n",
              "      <th>Family History of Depression_Yes</th>\n",
              "      <th>Chronic Medical Conditions_Yes</th>\n",
              "    </tr>\n",
              "  </thead>\n",
              "  <tbody>\n",
              "    <tr>\n",
              "      <th>0</th>\n",
              "      <td>31</td>\n",
              "      <td>1</td>\n",
              "      <td>2.0</td>\n",
              "      <td>26265.67</td>\n",
              "      <td>1</td>\n",
              "      <td>0</td>\n",
              "      <td>0</td>\n",
              "      <td>0</td>\n",
              "      <td>1</td>\n",
              "      <td>0</td>\n",
              "      <td>...</td>\n",
              "      <td>0</td>\n",
              "      <td>1</td>\n",
              "      <td>1</td>\n",
              "      <td>0</td>\n",
              "      <td>0</td>\n",
              "      <td>0</td>\n",
              "      <td>0</td>\n",
              "      <td>0</td>\n",
              "      <td>1</td>\n",
              "      <td>1</td>\n",
              "    </tr>\n",
              "    <tr>\n",
              "      <th>1</th>\n",
              "      <td>55</td>\n",
              "      <td>1</td>\n",
              "      <td>1.0</td>\n",
              "      <td>42710.36</td>\n",
              "      <td>1</td>\n",
              "      <td>0</td>\n",
              "      <td>0</td>\n",
              "      <td>0</td>\n",
              "      <td>1</td>\n",
              "      <td>0</td>\n",
              "      <td>...</td>\n",
              "      <td>0</td>\n",
              "      <td>0</td>\n",
              "      <td>0</td>\n",
              "      <td>1</td>\n",
              "      <td>0</td>\n",
              "      <td>0</td>\n",
              "      <td>1</td>\n",
              "      <td>0</td>\n",
              "      <td>0</td>\n",
              "      <td>1</td>\n",
              "    </tr>\n",
              "    <tr>\n",
              "      <th>2</th>\n",
              "      <td>78</td>\n",
              "      <td>3</td>\n",
              "      <td>1.0</td>\n",
              "      <td>125332.79</td>\n",
              "      <td>0</td>\n",
              "      <td>0</td>\n",
              "      <td>1</td>\n",
              "      <td>0</td>\n",
              "      <td>1</td>\n",
              "      <td>0</td>\n",
              "      <td>...</td>\n",
              "      <td>1</td>\n",
              "      <td>0</td>\n",
              "      <td>0</td>\n",
              "      <td>1</td>\n",
              "      <td>1</td>\n",
              "      <td>0</td>\n",
              "      <td>0</td>\n",
              "      <td>0</td>\n",
              "      <td>1</td>\n",
              "      <td>0</td>\n",
              "    </tr>\n",
              "    <tr>\n",
              "      <th>3</th>\n",
              "      <td>58</td>\n",
              "      <td>3</td>\n",
              "      <td>3.0</td>\n",
              "      <td>9992.78</td>\n",
              "      <td>0</td>\n",
              "      <td>0</td>\n",
              "      <td>0</td>\n",
              "      <td>0</td>\n",
              "      <td>1</td>\n",
              "      <td>1</td>\n",
              "      <td>...</td>\n",
              "      <td>0</td>\n",
              "      <td>1</td>\n",
              "      <td>1</td>\n",
              "      <td>0</td>\n",
              "      <td>0</td>\n",
              "      <td>1</td>\n",
              "      <td>0</td>\n",
              "      <td>0</td>\n",
              "      <td>0</td>\n",
              "      <td>0</td>\n",
              "    </tr>\n",
              "    <tr>\n",
              "      <th>4</th>\n",
              "      <td>18</td>\n",
              "      <td>2</td>\n",
              "      <td>0.0</td>\n",
              "      <td>8595.08</td>\n",
              "      <td>0</td>\n",
              "      <td>1</td>\n",
              "      <td>0</td>\n",
              "      <td>0</td>\n",
              "      <td>1</td>\n",
              "      <td>0</td>\n",
              "      <td>...</td>\n",
              "      <td>0</td>\n",
              "      <td>1</td>\n",
              "      <td>1</td>\n",
              "      <td>0</td>\n",
              "      <td>0</td>\n",
              "      <td>0</td>\n",
              "      <td>1</td>\n",
              "      <td>0</td>\n",
              "      <td>1</td>\n",
              "      <td>1</td>\n",
              "    </tr>\n",
              "  </tbody>\n",
              "</table>\n",
              "<p>5 rows × 22 columns</p>\n",
              "</div>"
            ],
            "text/plain": [
              "   Age  Education Level  Number of Children     Income  \\\n",
              "0   31                1                 2.0   26265.67   \n",
              "1   55                1                 1.0   42710.36   \n",
              "2   78                3                 1.0  125332.79   \n",
              "3   58                3                 3.0    9992.78   \n",
              "4   18                2                 0.0    8595.08   \n",
              "\n",
              "   Marital Status_Married  Marital Status_Single  Marital Status_Widowed  \\\n",
              "0                       1                      0                       0   \n",
              "1                       1                      0                       0   \n",
              "2                       0                      0                       1   \n",
              "3                       0                      0                       0   \n",
              "4                       0                      1                       0   \n",
              "\n",
              "   Smoking Status_Former  Smoking Status_Non-smoker  \\\n",
              "0                      0                          1   \n",
              "1                      0                          1   \n",
              "2                      0                          1   \n",
              "3                      0                          1   \n",
              "4                      0                          1   \n",
              "\n",
              "   Physical Activity Level_Moderate  ...  Alcohol Consumption_Low  \\\n",
              "0                                 0  ...                        0   \n",
              "1                                 0  ...                        0   \n",
              "2                                 0  ...                        1   \n",
              "3                                 1  ...                        0   \n",
              "4                                 0  ...                        0   \n",
              "\n",
              "   Alcohol Consumption_Moderate  Dietary Habits_Moderate  \\\n",
              "0                             1                        1   \n",
              "1                             0                        0   \n",
              "2                             0                        0   \n",
              "3                             1                        1   \n",
              "4                             1                        1   \n",
              "\n",
              "   Dietary Habits_Unhealthy  Sleep Patterns_Good  Sleep Patterns_Poor  \\\n",
              "0                         0                    0                    0   \n",
              "1                         1                    0                    0   \n",
              "2                         1                    1                    0   \n",
              "3                         0                    0                    1   \n",
              "4                         0                    0                    0   \n",
              "\n",
              "   History of Mental Illness_Yes  History of Substance Abuse_Yes  \\\n",
              "0                              0                               0   \n",
              "1                              1                               0   \n",
              "2                              0                               0   \n",
              "3                              0                               0   \n",
              "4                              1                               0   \n",
              "\n",
              "   Family History of Depression_Yes  Chronic Medical Conditions_Yes  \n",
              "0                                 1                               1  \n",
              "1                                 0                               1  \n",
              "2                                 1                               0  \n",
              "3                                 0                               0  \n",
              "4                                 1                               1  \n",
              "\n",
              "[5 rows x 22 columns]"
            ]
          },
          "execution_count": 12,
          "metadata": {},
          "output_type": "execute_result"
        }
      ],
      "source": [
        "df.head()"
      ]
    },
    {
      "cell_type": "code",
      "execution_count": null,
      "id": "75f75d1f",
      "metadata": {
        "id": "75f75d1f"
      },
      "outputs": [],
      "source": [
        "from sklearn.preprocessing import StandardScaler\n",
        "\n",
        "scaler = StandardScaler()\n",
        "df[num_cols] = scaler.fit_transform(df[num_cols])\n"
      ]
    },
    {
      "cell_type": "code",
      "execution_count": null,
      "id": "7f863e8c",
      "metadata": {
        "id": "7f863e8c"
      },
      "outputs": [],
      "source": [
        "from sklearn.model_selection import train_test_split\n",
        "from sklearn.linear_model import LinearRegression\n",
        "from sklearn.metrics import mean_squared_error, r2_score\n",
        "\n",
        "# Define features (X) and target (y)\n",
        "X = df.drop(columns=[\"Income\"])  # Features\n",
        "y = df[\"Income\"]  # Target variable\n",
        "\n",
        "# Train-test split (80% train, 20% test)\n",
        "X_train, X_test, y_train, y_test = train_test_split(X, y, test_size=0.2, random_state=42)\n",
        "\n",
        "# Train model\n",
        "\n"
      ]
    },
    {
      "cell_type": "code",
      "execution_count": null,
      "id": "9dbb0025",
      "metadata": {
        "id": "9dbb0025"
      },
      "outputs": [],
      "source": []
    },
    {
      "cell_type": "code",
      "execution_count": null,
      "id": "345f7451",
      "metadata": {
        "id": "345f7451",
        "outputId": "9f79f63b-9934-4c85-f840-f048e66ab5a7"
      },
      "outputs": [
        {
          "data": {
            "text/html": [
              "<div>\n",
              "<style scoped>\n",
              "    .dataframe tbody tr th:only-of-type {\n",
              "        vertical-align: middle;\n",
              "    }\n",
              "\n",
              "    .dataframe tbody tr th {\n",
              "        vertical-align: top;\n",
              "    }\n",
              "\n",
              "    .dataframe thead th {\n",
              "        text-align: right;\n",
              "    }\n",
              "</style>\n",
              "<table border=\"1\" class=\"dataframe\">\n",
              "  <thead>\n",
              "    <tr style=\"text-align: right;\">\n",
              "      <th></th>\n",
              "      <th>Age</th>\n",
              "      <th>Education Level</th>\n",
              "      <th>Number of Children</th>\n",
              "      <th>Income</th>\n",
              "      <th>Marital Status_Married</th>\n",
              "      <th>Marital Status_Single</th>\n",
              "      <th>Marital Status_Widowed</th>\n",
              "      <th>Smoking Status_Former</th>\n",
              "      <th>Smoking Status_Non-smoker</th>\n",
              "      <th>Physical Activity Level_Moderate</th>\n",
              "      <th>...</th>\n",
              "      <th>Alcohol Consumption_Low</th>\n",
              "      <th>Alcohol Consumption_Moderate</th>\n",
              "      <th>Dietary Habits_Moderate</th>\n",
              "      <th>Dietary Habits_Unhealthy</th>\n",
              "      <th>Sleep Patterns_Good</th>\n",
              "      <th>Sleep Patterns_Poor</th>\n",
              "      <th>History of Mental Illness_Yes</th>\n",
              "      <th>History of Substance Abuse_Yes</th>\n",
              "      <th>Family History of Depression_Yes</th>\n",
              "      <th>Chronic Medical Conditions_Yes</th>\n",
              "    </tr>\n",
              "  </thead>\n",
              "  <tbody>\n",
              "    <tr>\n",
              "      <th>0</th>\n",
              "      <td>-0.991298</td>\n",
              "      <td>1</td>\n",
              "      <td>0.655513</td>\n",
              "      <td>26265.67</td>\n",
              "      <td>1</td>\n",
              "      <td>0</td>\n",
              "      <td>0</td>\n",
              "      <td>0</td>\n",
              "      <td>1</td>\n",
              "      <td>0</td>\n",
              "      <td>...</td>\n",
              "      <td>0</td>\n",
              "      <td>1</td>\n",
              "      <td>1</td>\n",
              "      <td>0</td>\n",
              "      <td>0</td>\n",
              "      <td>0</td>\n",
              "      <td>0</td>\n",
              "      <td>0</td>\n",
              "      <td>1</td>\n",
              "      <td>1</td>\n",
              "    </tr>\n",
              "    <tr>\n",
              "      <th>1</th>\n",
              "      <td>0.330380</td>\n",
              "      <td>1</td>\n",
              "      <td>-0.220650</td>\n",
              "      <td>42710.36</td>\n",
              "      <td>1</td>\n",
              "      <td>0</td>\n",
              "      <td>0</td>\n",
              "      <td>0</td>\n",
              "      <td>1</td>\n",
              "      <td>0</td>\n",
              "      <td>...</td>\n",
              "      <td>0</td>\n",
              "      <td>0</td>\n",
              "      <td>0</td>\n",
              "      <td>1</td>\n",
              "      <td>0</td>\n",
              "      <td>0</td>\n",
              "      <td>1</td>\n",
              "      <td>0</td>\n",
              "      <td>0</td>\n",
              "      <td>1</td>\n",
              "    </tr>\n",
              "    <tr>\n",
              "      <th>2</th>\n",
              "      <td>1.596988</td>\n",
              "      <td>3</td>\n",
              "      <td>-0.220650</td>\n",
              "      <td>125332.79</td>\n",
              "      <td>0</td>\n",
              "      <td>0</td>\n",
              "      <td>1</td>\n",
              "      <td>0</td>\n",
              "      <td>1</td>\n",
              "      <td>0</td>\n",
              "      <td>...</td>\n",
              "      <td>1</td>\n",
              "      <td>0</td>\n",
              "      <td>0</td>\n",
              "      <td>1</td>\n",
              "      <td>1</td>\n",
              "      <td>0</td>\n",
              "      <td>0</td>\n",
              "      <td>0</td>\n",
              "      <td>1</td>\n",
              "      <td>0</td>\n",
              "    </tr>\n",
              "    <tr>\n",
              "      <th>3</th>\n",
              "      <td>0.495590</td>\n",
              "      <td>3</td>\n",
              "      <td>1.531676</td>\n",
              "      <td>9992.78</td>\n",
              "      <td>0</td>\n",
              "      <td>0</td>\n",
              "      <td>0</td>\n",
              "      <td>0</td>\n",
              "      <td>1</td>\n",
              "      <td>1</td>\n",
              "      <td>...</td>\n",
              "      <td>0</td>\n",
              "      <td>1</td>\n",
              "      <td>1</td>\n",
              "      <td>0</td>\n",
              "      <td>0</td>\n",
              "      <td>1</td>\n",
              "      <td>0</td>\n",
              "      <td>0</td>\n",
              "      <td>0</td>\n",
              "      <td>0</td>\n",
              "    </tr>\n",
              "    <tr>\n",
              "      <th>4</th>\n",
              "      <td>-1.707206</td>\n",
              "      <td>2</td>\n",
              "      <td>-1.096813</td>\n",
              "      <td>8595.08</td>\n",
              "      <td>0</td>\n",
              "      <td>1</td>\n",
              "      <td>0</td>\n",
              "      <td>0</td>\n",
              "      <td>1</td>\n",
              "      <td>0</td>\n",
              "      <td>...</td>\n",
              "      <td>0</td>\n",
              "      <td>1</td>\n",
              "      <td>1</td>\n",
              "      <td>0</td>\n",
              "      <td>0</td>\n",
              "      <td>0</td>\n",
              "      <td>1</td>\n",
              "      <td>0</td>\n",
              "      <td>1</td>\n",
              "      <td>1</td>\n",
              "    </tr>\n",
              "  </tbody>\n",
              "</table>\n",
              "<p>5 rows × 22 columns</p>\n",
              "</div>"
            ],
            "text/plain": [
              "        Age  Education Level  Number of Children     Income  \\\n",
              "0 -0.991298                1            0.655513   26265.67   \n",
              "1  0.330380                1           -0.220650   42710.36   \n",
              "2  1.596988                3           -0.220650  125332.79   \n",
              "3  0.495590                3            1.531676    9992.78   \n",
              "4 -1.707206                2           -1.096813    8595.08   \n",
              "\n",
              "   Marital Status_Married  Marital Status_Single  Marital Status_Widowed  \\\n",
              "0                       1                      0                       0   \n",
              "1                       1                      0                       0   \n",
              "2                       0                      0                       1   \n",
              "3                       0                      0                       0   \n",
              "4                       0                      1                       0   \n",
              "\n",
              "   Smoking Status_Former  Smoking Status_Non-smoker  \\\n",
              "0                      0                          1   \n",
              "1                      0                          1   \n",
              "2                      0                          1   \n",
              "3                      0                          1   \n",
              "4                      0                          1   \n",
              "\n",
              "   Physical Activity Level_Moderate  ...  Alcohol Consumption_Low  \\\n",
              "0                                 0  ...                        0   \n",
              "1                                 0  ...                        0   \n",
              "2                                 0  ...                        1   \n",
              "3                                 1  ...                        0   \n",
              "4                                 0  ...                        0   \n",
              "\n",
              "   Alcohol Consumption_Moderate  Dietary Habits_Moderate  \\\n",
              "0                             1                        1   \n",
              "1                             0                        0   \n",
              "2                             0                        0   \n",
              "3                             1                        1   \n",
              "4                             1                        1   \n",
              "\n",
              "   Dietary Habits_Unhealthy  Sleep Patterns_Good  Sleep Patterns_Poor  \\\n",
              "0                         0                    0                    0   \n",
              "1                         1                    0                    0   \n",
              "2                         1                    1                    0   \n",
              "3                         0                    0                    1   \n",
              "4                         0                    0                    0   \n",
              "\n",
              "   History of Mental Illness_Yes  History of Substance Abuse_Yes  \\\n",
              "0                              0                               0   \n",
              "1                              1                               0   \n",
              "2                              0                               0   \n",
              "3                              0                               0   \n",
              "4                              1                               0   \n",
              "\n",
              "   Family History of Depression_Yes  Chronic Medical Conditions_Yes  \n",
              "0                                 1                               1  \n",
              "1                                 0                               1  \n",
              "2                                 1                               0  \n",
              "3                                 0                               0  \n",
              "4                                 1                               1  \n",
              "\n",
              "[5 rows x 22 columns]"
            ]
          },
          "execution_count": 15,
          "metadata": {},
          "output_type": "execute_result"
        }
      ],
      "source": [
        "df.head()"
      ]
    },
    {
      "cell_type": "code",
      "execution_count": null,
      "id": "d5b94f40",
      "metadata": {
        "id": "d5b94f40"
      },
      "outputs": [],
      "source": [
        "# Add bias term\n",
        "X_train_bias = np.c_[np.ones((X_train.shape[0], 1)), X_train]\n",
        "X_test_bias = np.c_[np.ones((X_test.shape[0], 1)), X_test]\n",
        "\n",
        "def cost_function(X, Y, W):\n",
        "    m = len(Y)\n",
        "    Y_pred = np.dot(X, W)\n",
        "    cost = (1 / (2 * m)) * np.sum((Y_pred - Y) ** 2)\n",
        "    return cost\n",
        "\n",
        "def gradient_descent(X, Y, W, alpha, iterations):\n",
        "    m = len(Y)\n",
        "    cost_history = []\n",
        "    for i in range(iterations):\n",
        "        Y_pred = np.dot(X, W)\n",
        "        loss = Y_pred - Y\n",
        "        gradient = (1 / m) * np.dot(X.T, loss)\n",
        "        W -= alpha * gradient\n",
        "        cost = cost_function(X, Y, W)\n",
        "        cost_history.append(cost)\n",
        "        if i % 100 == 0:\n",
        "            print(f\"Iteration {i}: Cost = {cost:.4f}\")\n",
        "    return W, cost_history\n",
        "\n",
        "def rmse(Y, Y_pred):\n",
        "    return np.sqrt(mean_squared_error(Y, Y_pred))"
      ]
    },
    {
      "cell_type": "code",
      "execution_count": null,
      "id": "c107d619",
      "metadata": {
        "id": "c107d619"
      },
      "outputs": [],
      "source": [
        "import numpy as np\n",
        "import matplotlib.pyplot as plt\n",
        "from sklearn.metrics import mean_squared_error, r2_score\n",
        "\n",
        "def main():\n",
        "    W = np.zeros(X_train_bias.shape[1])\n",
        "    alpha = 0.1\n",
        "    iterations = 5000\n",
        "    W_optimal, cost_history = gradient_descent(X_train_bias, y_train.values, W, alpha, iterations)\n",
        "\n",
        "    # Plot cost function over iterations\n",
        "    plt.plot(range(iterations), cost_history, label='Cost Reduction Over Iterations', color='blue')\n",
        "    plt.xlabel('Iterations')\n",
        "    plt.ylabel('Cost (MSE)')\n",
        "    plt.title('Gradient Descent Convergence')\n",
        "    plt.legend()\n",
        "    plt.show()\n",
        "\n",
        "    # Predictions\n",
        "    Y_pred_train = np.dot(X_train_bias, W_optimal)\n",
        "    Y_pred_test = np.dot(X_test_bias, W_optimal)\n",
        "\n",
        "    # Training metrics\n",
        "    train_mse = mean_squared_error(y_train, Y_pred_train)\n",
        "    train_rmse = np.sqrt(train_mse)  # RMSE\n",
        "    train_r2 = r2_score(y_train, Y_pred_train)\n",
        "\n",
        "    # Test metrics\n",
        "    test_mse = mean_squared_error(y_test, Y_pred_test)\n",
        "    test_rmse = np.sqrt(test_mse)  # RMSE\n",
        "    test_r2 = r2_score(y_test, Y_pred_test)\n",
        "\n",
        "    # Print results\n",
        "    print(\"Final Weights:\", W_optimal)\n",
        "    print(\"MSE on Training Set:\", train_mse)\n",
        "    print(\"RMSE on Training Set:\", train_rmse)\n",
        "    print(\"R-Squared on Training Set:\", train_r2)\n",
        "    print()\n",
        "    print(\"MSE on Test Set:\", test_mse)\n",
        "    print(\"RMSE on Test Set:\", test_rmse)\n",
        "    print(\"R-Squared on Test Set:\", test_r2)\n",
        "    # Check for infinite values\n",
        "    print(np.any(np.isinf(y_train)))\n",
        "    print(np.any(np.isinf(Y_pred_train)))\n",
        "\n",
        "\n"
      ]
    },
    {
      "cell_type": "code",
      "execution_count": null,
      "id": "cea42dee",
      "metadata": {
        "id": "cea42dee",
        "outputId": "6499e461-1f2e-47dd-ce1e-79254fc36756"
      },
      "outputs": [
        {
          "name": "stdout",
          "output_type": "stream",
          "text": [
            "Iteration 0: Cost = 995544114.2126\n",
            "Iteration 100: Cost = 510242804.6280\n",
            "Iteration 200: Cost = 492739986.9461\n",
            "Iteration 300: Cost = 485795920.1063\n",
            "Iteration 400: Cost = 481813501.7306\n",
            "Iteration 500: Cost = 479288142.8962\n",
            "Iteration 600: Cost = 477588897.5075\n",
            "Iteration 700: Cost = 476399652.5530\n",
            "Iteration 800: Cost = 475545421.0581\n",
            "Iteration 900: Cost = 474921230.3300\n",
            "Iteration 1000: Cost = 474459925.5131\n",
            "Iteration 1100: Cost = 474116397.6086\n",
            "Iteration 1200: Cost = 473859252.2536\n",
            "Iteration 1300: Cost = 473666083.5907\n",
            "Iteration 1400: Cost = 473520616.3383\n",
            "Iteration 1500: Cost = 473410881.6962\n",
            "Iteration 1600: Cost = 473328001.4391\n",
            "Iteration 1700: Cost = 473265349.6945\n",
            "Iteration 1800: Cost = 473217960.2335\n",
            "Iteration 1900: Cost = 473182099.3961\n",
            "Iteration 2000: Cost = 473154954.0820\n",
            "Iteration 2100: Cost = 473134401.4965\n",
            "Iteration 2200: Cost = 473118837.9837\n",
            "Iteration 2300: Cost = 473107051.1096\n",
            "Iteration 2400: Cost = 473098123.7011\n",
            "Iteration 2500: Cost = 473091361.6599\n",
            "Iteration 2600: Cost = 473086239.5534\n",
            "Iteration 2700: Cost = 473082359.5456\n",
            "Iteration 2800: Cost = 473079420.3664\n",
            "Iteration 2900: Cost = 473077193.8477\n",
            "Iteration 3000: Cost = 473075507.1725\n",
            "Iteration 3100: Cost = 473074229.4395\n",
            "Iteration 3200: Cost = 473073261.4932\n",
            "Iteration 3300: Cost = 473072528.2226\n",
            "Iteration 3400: Cost = 473071972.7297\n",
            "Iteration 3500: Cost = 473071551.9123\n",
            "Iteration 3600: Cost = 473071233.1188\n",
            "Iteration 3700: Cost = 473070991.6139\n",
            "Iteration 3800: Cost = 473070808.6597\n",
            "Iteration 3900: Cost = 473070670.0609\n",
            "Iteration 4000: Cost = 473070565.0639\n",
            "Iteration 4100: Cost = 473070485.5224\n",
            "Iteration 4200: Cost = 473070425.2649\n",
            "Iteration 4300: Cost = 473070379.6162\n",
            "Iteration 4400: Cost = 473070345.0346\n",
            "Iteration 4500: Cost = 473070318.8368\n",
            "Iteration 4600: Cost = 473070298.9905\n",
            "Iteration 4700: Cost = 473070283.9557\n",
            "Iteration 4800: Cost = 473070272.5659\n",
            "Iteration 4900: Cost = 473070263.9374\n"
          ]
        },
        {
          "data": {
            "image/png": "[encoded data removed]",
            "text/plain": [
              "<Figure size 640x480 with 1 Axes>"
            ]
          },
          "metadata": {},
          "output_type": "display_data"
        },
        {
          "name": "stdout",
          "output_type": "stream",
          "text": [
            "Final Weights: [ 69452.07935105     73.3907118    9429.42027789    774.99542447\n",
            "   -545.73990129  -6850.50340807  -1781.27770502   -219.89602229\n",
            "   -547.85309133    335.16145909   3581.65884809 -50389.96709809\n",
            "  -4101.80541364  -1832.62132147 -15068.41691876 -17897.61183814\n",
            "   2668.21850199  -1781.68882935  -4884.55680293     82.81534927\n",
            "    201.11663634   -658.5653605 ]\n",
            "MSE on Training Set: 946140514.9152039\n",
            "RMSE on Training Set: 30759.397180621145\n",
            "R-Squared on Training Set: 0.4279879380165812\n",
            "\n",
            "MSE on Test Set: 943085292.111363\n",
            "RMSE on Test Set: 30709.693780813952\n",
            "R-Squared on Test Set: 0.42330357919213724\n",
            "False\n",
            "False\n"
          ]
        }
      ],
      "source": [
        "if __name__ == \"__main__\":\n",
        "    main()\n"
      ]
    },
    {
      "cell_type": "markdown",
      "id": "02ac7177",
      "metadata": {
        "id": "02ac7177"
      },
      "source": [
        "## Linear regresion"
      ]
    },
    {
      "cell_type": "code",
      "execution_count": null,
      "id": "dea32461",
      "metadata": {
        "id": "dea32461",
        "outputId": "b809cd44-87a8-46c4-b5a1-7ddd178d340f"
      },
      "outputs": [
        {
          "name": "stdout",
          "output_type": "stream",
          "text": [
            "Linear Regression Results:\n",
            "MSE on Training Set: 946140473.9512681\n",
            "RMSE on Training Set: 30759.39651474437\n",
            "R-Squared on Training Set: 0.4279879627823163\n",
            "\n",
            "MSE on Test Set: 943087340.1343133\n",
            "RMSE on Test Set: 30709.727125689562\n",
            "R-Squared on Test Set: 0.4233023268266142\n"
          ]
        }
      ],
      "source": [
        "from sklearn.linear_model import LinearRegression\n",
        "from sklearn.metrics import mean_squared_error, r2_score\n",
        "\n",
        "# Initialize and train the Linear Regression model\n",
        "lr_model = LinearRegression()\n",
        "lr_model.fit(X_train, y_train)\n",
        "\n",
        "# Predictions\n",
        "y_pred_train_lr = lr_model.predict(X_train)\n",
        "y_pred_test_lr = lr_model.predict(X_test)\n",
        "\n",
        "# Calculate metrics for Linear Regression\n",
        "train_mse_lr = mean_squared_error(y_train, y_pred_train_lr)\n",
        "train_rmse_lr = np.sqrt(train_mse_lr)\n",
        "train_r2_lr = r2_score(y_train, y_pred_train_lr)\n",
        "\n",
        "test_mse_lr = mean_squared_error(y_test, y_pred_test_lr)\n",
        "test_rmse_lr = np.sqrt(test_mse_lr)\n",
        "test_r2_lr = r2_score(y_test, y_pred_test_lr)\n",
        "\n",
        "# Print results for Linear Regression\n",
        "print(\"Linear Regression Results:\")\n",
        "print(f\"MSE on Training Set: {train_mse_lr}\")\n",
        "print(f\"RMSE on Training Set: {train_rmse_lr}\")\n",
        "print(f\"R-Squared on Training Set: {train_r2_lr}\")\n",
        "print()\n",
        "print(f\"MSE on Test Set: {test_mse_lr}\")\n",
        "print(f\"RMSE on Test Set: {test_rmse_lr}\")\n",
        "print(f\"R-Squared on Test Set: {test_r2_lr}\")\n"
      ]
    },
    {
      "cell_type": "markdown",
      "id": "f3a9da79",
      "metadata": {
        "id": "f3a9da79"
      },
      "source": [
        "## Random forest"
      ]
    },
    {
      "cell_type": "code",
      "execution_count": null,
      "id": "7f60d3e3",
      "metadata": {
        "id": "7f60d3e3",
        "outputId": "aaf72620-0bc7-4820-dbfa-d1522014b8fb"
      },
      "outputs": [
        {
          "data": {
            "text/html": [
              "<style>#sk-container-id-1 {color: black;background-color: white;}#sk-container-id-1 pre{padding: 0;}#sk-container-id-1 div.sk-toggleable {background-color: white;}#sk-container-id-1 label.sk-toggleable__label {cursor: pointer;display: block;width: 100%;margin-bottom: 0;padding: 0.3em;box-sizing: border-box;text-align: center;}#sk-container-id-1 label.sk-toggleable__label-arrow:before {content: \"▸\";float: left;margin-right: 0.25em;color: #696969;}#sk-container-id-1 label.sk-toggleable__label-arrow:hover:before {color: black;}#sk-container-id-1 div.sk-estimator:hover label.sk-toggleable__label-arrow:before {color: black;}#sk-container-id-1 div.sk-toggleable__content {max-height: 0;max-width: 0;overflow: hidden;text-align: left;background-color: #f0f8ff;}#sk-container-id-1 div.sk-toggleable__content pre {margin: 0.2em;color: black;border-radius: 0.25em;background-color: #f0f8ff;}#sk-container-id-1 input.sk-toggleable__control:checked~div.sk-toggleable__content {max-height: 200px;max-width: 100%;overflow: auto;}#sk-container-id-1 input.sk-toggleable__control:checked~label.sk-toggleable__label-arrow:before {content: \"▾\";}#sk-container-id-1 div.sk-estimator input.sk-toggleable__control:checked~label.sk-toggleable__label {background-color: #d4ebff;}#sk-container-id-1 div.sk-label input.sk-toggleable__control:checked~label.sk-toggleable__label {background-color: #d4ebff;}#sk-container-id-1 input.sk-hidden--visually {border: 0;clip: rect(1px 1px 1px 1px);clip: rect(1px, 1px, 1px, 1px);height: 1px;margin: -1px;overflow: hidden;padding: 0;position: absolute;width: 1px;}#sk-container-id-1 div.sk-estimator {font-family: monospace;background-color: #f0f8ff;border: 1px dotted black;border-radius: 0.25em;box-sizing: border-box;margin-bottom: 0.5em;}#sk-container-id-1 div.sk-estimator:hover {background-color: #d4ebff;}#sk-container-id-1 div.sk-parallel-item::after {content: \"\";width: 100%;border-bottom: 1px solid gray;flex-grow: 1;}#sk-container-id-1 div.sk-label:hover label.sk-toggleable__label {background-color: #d4ebff;}#sk-container-id-1 div.sk-serial::before {content: \"\";position: absolute;border-left: 1px solid gray;box-sizing: border-box;top: 0;bottom: 0;left: 50%;z-index: 0;}#sk-container-id-1 div.sk-serial {display: flex;flex-direction: column;align-items: center;background-color: white;padding-right: 0.2em;padding-left: 0.2em;position: relative;}#sk-container-id-1 div.sk-item {position: relative;z-index: 1;}#sk-container-id-1 div.sk-parallel {display: flex;align-items: stretch;justify-content: center;background-color: white;position: relative;}#sk-container-id-1 div.sk-item::before, #sk-container-id-1 div.sk-parallel-item::before {content: \"\";position: absolute;border-left: 1px solid gray;box-sizing: border-box;top: 0;bottom: 0;left: 50%;z-index: -1;}#sk-container-id-1 div.sk-parallel-item {display: flex;flex-direction: column;z-index: 1;position: relative;background-color: white;}#sk-container-id-1 div.sk-parallel-item:first-child::after {align-self: flex-end;width: 50%;}#sk-container-id-1 div.sk-parallel-item:last-child::after {align-self: flex-start;width: 50%;}#sk-container-id-1 div.sk-parallel-item:only-child::after {width: 0;}#sk-container-id-1 div.sk-dashed-wrapped {border: 1px dashed gray;margin: 0 0.4em 0.5em 0.4em;box-sizing: border-box;padding-bottom: 0.4em;background-color: white;}#sk-container-id-1 div.sk-label label {font-family: monospace;font-weight: bold;display: inline-block;line-height: 1.2em;}#sk-container-id-1 div.sk-label-container {text-align: center;}#sk-container-id-1 div.sk-container {/* jupyter's `normalize.less` sets `[hidden] { display: none; }` but bootstrap.min.css set `[hidden] { display: none !important; }` so we also need the `!important` here to be able to override the default hidden behavior on the sphinx rendered scikit-learn.org. See: https://github.com/scikit-learn/scikit-learn/issues/21755 */display: inline-block !important;position: relative;}#sk-container-id-1 div.sk-text-repr-fallback {display: none;}</style><div id=\"sk-container-id-1\" class=\"sk-top-container\"><div class=\"sk-text-repr-fallback\"><pre>RandomForestRegressor(n_estimators=10, random_state=42)</pre><b>In a Jupyter environment, please rerun this cell to show the HTML representation or trust the notebook. <br />On GitHub, the HTML representation is unable to render, please try loading this page with nbviewer.org.</b></div><div class=\"sk-container\" hidden><div class=\"sk-item\"><div class=\"sk-estimator sk-toggleable\"><input class=\"sk-toggleable__control sk-hidden--visually\" id=\"sk-estimator-id-1\" type=\"checkbox\" checked><label for=\"sk-estimator-id-1\" class=\"sk-toggleable__label sk-toggleable__label-arrow\">RandomForestRegressor</label><div class=\"sk-toggleable__content\"><pre>RandomForestRegressor(n_estimators=10, random_state=42)</pre></div></div></div></div></div>"
            ],
            "text/plain": [
              "RandomForestRegressor(n_estimators=10, random_state=42)"
            ]
          },
          "execution_count": 21,
          "metadata": {},
          "output_type": "execute_result"
        }
      ],
      "source": [
        "from sklearn.ensemble import RandomForestRegressor\n",
        "\n",
        "# Initialize and train Random Forest Regression model\n",
        "rf_model = RandomForestRegressor(n_estimators=10, random_state=42)\n",
        "rf_model.fit(X_train, y_train)\n",
        "\n",
        "\n"
      ]
    },
    {
      "cell_type": "code",
      "execution_count": null,
      "id": "0cd8fd63",
      "metadata": {
        "id": "0cd8fd63",
        "outputId": "c220cd28-0157-4b77-ceef-f073c21d5839"
      },
      "outputs": [
        {
          "name": "stdout",
          "output_type": "stream",
          "text": [
            "Random Forest Regression Results:\n",
            "MSE on Training Set: 139287918.6055932\n",
            "RMSE on Training Set: 11802.03027472787\n",
            "R-Squared on Training Set: 0.9157901302449725\n",
            "\n",
            "MSE on Test Set: 566827057.7202725\n",
            "RMSE on Test Set: 23808.130076095276\n",
            "R-Squared on Test Set: 0.6533853956384965\n"
          ]
        }
      ],
      "source": [
        "\n",
        "y_pred_train_rf = rf_model.predict(X_train)\n",
        "y_pred_test_rf = rf_model.predict(X_test)\n",
        "\n",
        "# Calculate metrics for Random Forest Regression\n",
        "train_mse_rf = mean_squared_error(y_train, y_pred_train_rf)\n",
        "train_rmse_rf = np.sqrt(train_mse_rf)\n",
        "train_r2_rf = r2_score(y_train, y_pred_train_rf)\n",
        "\n",
        "test_mse_rf = mean_squared_error(y_test, y_pred_test_rf)\n",
        "test_rmse_rf = np.sqrt(test_mse_rf)\n",
        "test_r2_rf = r2_score(y_test, y_pred_test_rf)\n",
        "\n",
        "# Print results for Random Forest Regression\n",
        "print(\"Random Forest Regression Results:\")\n",
        "print(f\"MSE on Training Set: {train_mse_rf}\")\n",
        "print(f\"RMSE on Training Set: {train_rmse_rf}\")\n",
        "print(f\"R-Squared on Training Set: {train_r2_rf}\")\n",
        "print()\n",
        "print(f\"MSE on Test Set: {test_mse_rf}\")\n",
        "print(f\"RMSE on Test Set: {test_rmse_rf}\")\n",
        "print(f\"R-Squared on Test Set: {test_r2_rf}\")\n"
      ]
    },
    {
      "cell_type": "code",
      "execution_count": null,
      "id": "63b43993",
      "metadata": {
        "id": "63b43993"
      },
      "outputs": [],
      "source": []
    },
    {
      "cell_type": "code",
      "execution_count": null,
      "id": "817e1118",
      "metadata": {
        "id": "817e1118",
        "outputId": "f73b1d9a-2d48-4a0a-c027-66af97505840"
      },
      "outputs": [
        {
          "name": "stdout",
          "output_type": "stream",
          "text": [
            "Best hyperparameters for Ridge Regression: {'alpha': 10}\n",
            "Ridge Regression Results:\n",
            "MSE on Training Set: 946140496.2668567\n",
            "RMSE on Training Set: 30759.39687748862\n",
            "R-Squared on Training Set: 0.4279879492908891\n",
            "\n",
            "MSE on Test Set: 943085235.8112048\n",
            "RMSE on Test Set: 30709.69286416269\n",
            "R-Squared on Test Set: 0.42330361361966995\n"
          ]
        }
      ],
      "source": [
        "from sklearn.linear_model import Ridge\n",
        "from sklearn.model_selection import GridSearchCV\n",
        "from sklearn.metrics import mean_squared_error, r2_score\n",
        "\n",
        "# Hyperparameters for Ridge Regression\n",
        "ridge_param_grid = {\n",
        "    'alpha': [0.1, 1, 10, 100, 1000]  # Range of values for regularization strength\n",
        "}\n",
        "\n",
        "# Initialize Ridge model\n",
        "ridge_model = Ridge()\n",
        "\n",
        "# Apply GridSearchCV\n",
        "ridge_grid_search = GridSearchCV(estimator=ridge_model, param_grid=ridge_param_grid, cv=5, scoring='neg_mean_squared_error', n_jobs=-1)\n",
        "ridge_grid_search.fit(X_train, y_train)\n",
        "\n",
        "# Get the best hyperparameters\n",
        "best_ridge_alpha = ridge_grid_search.best_params_['alpha']\n",
        "print(f\"Best hyperparameters for Ridge Regression: {ridge_grid_search.best_params_}\")\n",
        "\n",
        "# Retrain the Ridge model with the best hyperparameters\n",
        "best_ridge_model = Ridge(alpha=best_ridge_alpha)\n",
        "best_ridge_model.fit(X_train, y_train)\n",
        "\n",
        "# Predictions\n",
        "y_pred_train_ridge = best_ridge_model.predict(X_train)\n",
        "y_pred_test_ridge = best_ridge_model.predict(X_test)\n",
        "\n",
        "# Evaluate performance on training and test sets\n",
        "train_mse_ridge = mean_squared_error(y_train, y_pred_train_ridge)\n",
        "train_rmse_ridge = np.sqrt(train_mse_ridge)\n",
        "train_r2_ridge = r2_score(y_train, y_pred_train_ridge)\n",
        "\n",
        "test_mse_ridge = mean_squared_error(y_test, y_pred_test_ridge)\n",
        "test_rmse_ridge = np.sqrt(test_mse_ridge)\n",
        "test_r2_ridge = r2_score(y_test, y_pred_test_ridge)\n",
        "\n",
        "# Print results for Ridge Regression\n",
        "print(\"Ridge Regression Results:\")\n",
        "print(f\"MSE on Training Set: {train_mse_ridge}\")\n",
        "print(f\"RMSE on Training Set: {train_rmse_ridge}\")\n",
        "print(f\"R-Squared on Training Set: {train_r2_ridge}\")\n",
        "print()\n",
        "print(f\"MSE on Test Set: {test_mse_ridge}\")\n",
        "print(f\"RMSE on Test Set: {test_rmse_ridge}\")\n",
        "print(f\"R-Squared on Test Set: {test_r2_ridge}\")\n"
      ]
    },
    {
      "cell_type": "code",
      "execution_count": null,
      "id": "f3513dbc",
      "metadata": {
        "id": "f3513dbc",
        "outputId": "6ff17a67-55c9-4b45-be28-86a79e04c460"
      },
      "outputs": [
        {
          "name": "stdout",
          "output_type": "stream",
          "text": [
            "Fitting 3 folds for each of 8 candidates, totalling 24 fits\n",
            "Best Hyperparameters for Random Forest Regression: {'max_depth': 10, 'min_samples_split': 5, 'n_estimators': 100}\n"
          ]
        }
      ],
      "source": [
        "from sklearn.model_selection import GridSearchCV\n",
        "from sklearn.ensemble import RandomForestRegressor\n",
        "\n",
        "# Define parameter grid for Random Forest with reduced search space\n",
        "param_grid = {\n",
        "    'n_estimators': [50, 100],          # Reduced number of estimators\n",
        "    'max_depth': [None, 10],            # Limited depth range\n",
        "    'min_samples_split': [2, 5]         # Fewer options for min_samples_split\n",
        "}\n",
        "\n",
        "# Create GridSearchCV object with parallelization\n",
        "grid_search_rf = GridSearchCV(\n",
        "    RandomForestRegressor(random_state=42),\n",
        "    param_grid,\n",
        "    cv=3,                             # Reduced cross-validation folds\n",
        "    scoring='neg_mean_squared_error',\n",
        "    n_jobs=-1,                        # Use all CPU cores for parallelization\n",
        "    verbose=1                          # Output progress to see the search progress\n",
        ")\n",
        "\n",
        "# Fit the model\n",
        "grid_search_rf.fit(X_train, y_train)\n",
        "\n",
        "# Best hyperparameters for Random Forest\n",
        "print(\"Best Hyperparameters for Random Forest Regression:\", grid_search_rf.best_params_)\n"
      ]
    },
    {
      "cell_type": "markdown",
      "id": "7b21262e",
      "metadata": {
        "id": "7b21262e"
      },
      "source": [
        "## feature selection\n"
      ]
    },
    {
      "cell_type": "code",
      "execution_count": null,
      "id": "c493dcac",
      "metadata": {
        "id": "c493dcac",
        "outputId": "784c38a1-fefd-456f-a3ef-98a203581b27"
      },
      "outputs": [
        {
          "name": "stdout",
          "output_type": "stream",
          "text": [
            "Selected Features: Index(['Age', 'Education Level', 'Marital Status_Married',\n",
            "       'Marital Status_Widowed', 'Employment Status_Unemployed',\n",
            "       'Alcohol Consumption_Moderate', 'Dietary Habits_Unhealthy',\n",
            "       'Sleep Patterns_Good', 'Sleep Patterns_Poor',\n",
            "       'History of Mental Illness_Yes'],\n",
            "      dtype='object')\n",
            "                              Feature          Score\n",
            "10       Employment Status_Unemployed  160611.155759\n",
            "1                     Education Level   24639.988892\n",
            "17      History of Mental Illness_Yes    5007.747156\n",
            "15                Sleep Patterns_Good    4539.462580\n",
            "14           Dietary Habits_Unhealthy    3361.048328\n",
            "16                Sleep Patterns_Poor    3302.078785\n",
            "0                                 Age    1440.983857\n",
            "5              Marital Status_Widowed     659.850698\n",
            "3              Marital Status_Married     399.329273\n",
            "12       Alcohol Consumption_Moderate     245.872333\n",
            "20     Chronic Medical Conditions_Yes     240.612509\n",
            "2                  Number of Children     203.346812\n",
            "4               Marital Status_Single     172.910977\n",
            "7           Smoking Status_Non-smoker     152.222287\n",
            "13            Dietary Habits_Moderate     124.408387\n",
            "11            Alcohol Consumption_Low      82.566977\n",
            "9   Physical Activity Level_Sedentary      42.647608\n",
            "19   Family History of Depression_Yes      11.811404\n",
            "6               Smoking Status_Former       9.338286\n",
            "8    Physical Activity Level_Moderate       5.752422\n",
            "18     History of Substance Abuse_Yes       1.783999\n"
          ]
        }
      ],
      "source": [
        "from sklearn.feature_selection import SelectKBest, f_regression\n",
        "import pandas as pd\n",
        "\n",
        "# Assuming X_train and y_train are your training data\n",
        "# Use SelectKBest with f_regression to select top K features\n",
        "selector = SelectKBest(score_func=f_regression, k=10)  # Select top 10 features\n",
        "\n",
        "# Fit the selector to the data\n",
        "X_train_selected = selector.fit_transform(X_train, y_train)\n",
        "\n",
        "# Get the selected feature indices\n",
        "selected_columns = selector.get_support(indices=True)\n",
        "\n",
        "# Display the selected feature names\n",
        "print(\"Selected Features:\", X_train.columns[selected_columns])\n",
        "\n",
        "# If you want to visualize the scores of the features\n",
        "feature_scores = pd.DataFrame({\n",
        "    'Feature': X_train.columns,\n",
        "    'Score': selector.scores_\n",
        "}).sort_values(by='Score', ascending=False)\n",
        "\n",
        "print(feature_scores)\n"
      ]
    },
    {
      "cell_type": "code",
      "execution_count": null,
      "id": "1518939a",
      "metadata": {
        "id": "1518939a"
      },
      "outputs": [],
      "source": [
        "# Create X_train and X_test using the selected features\n",
        "X_train_final = X_train.iloc[:, selected_columns]\n",
        "X_test_final = X_test.iloc[:, selected_columns]\n"
      ]
    },
    {
      "cell_type": "code",
      "execution_count": null,
      "id": "db05945d",
      "metadata": {
        "id": "db05945d",
        "outputId": "458c9242-60aa-492d-bfa1-cdc5aca79768"
      },
      "outputs": [
        {
          "name": "stdout",
          "output_type": "stream",
          "text": [
            "Random Forest Results:\n",
            "MSE on Training Set: 446746379.7527267\n",
            "RMSE on Training Set: 21136.37574781274\n",
            "R-Squared on Training Set: 0.7299087040058871\n",
            "\n",
            "MSE on Test Set: 461547172.5649871\n",
            "RMSE on Test Set: 21483.648958335434\n",
            "R-Squared on Test Set: 0.717764019141562\n"
          ]
        }
      ],
      "source": [
        "from sklearn.ensemble import RandomForestRegressor\n",
        "\n",
        "# Best hyperparameters for Random Forest (from previous GridSearch)\n",
        "best_rf_params = grid_search_rf.best_params_\n",
        "\n",
        "# Initialize and train Random Forest model with best hyperparameters\n",
        "rf_model = RandomForestRegressor(n_estimators=best_rf_params['n_estimators'],\n",
        "                                 max_depth=best_rf_params['max_depth'],\n",
        "                                 min_samples_split=best_rf_params['min_samples_split'],\n",
        "                                 random_state=42)\n",
        "rf_model.fit(X_train_final, y_train)\n",
        "\n",
        "# Predict on training and test sets\n",
        "y_pred_train_rf = rf_model.predict(X_train_final)\n",
        "y_pred_test_rf = rf_model.predict(X_test_final)\n",
        "\n",
        "# Calculate performance metrics for Random Forest\n",
        "train_mse_rf = mean_squared_error(y_train, y_pred_train_rf)\n",
        "train_rmse_rf = np.sqrt(train_mse_rf)\n",
        "train_r2_rf = r2_score(y_train, y_pred_train_rf)\n",
        "\n",
        "test_mse_rf = mean_squared_error(y_test, y_pred_test_rf)\n",
        "test_rmse_rf = np.sqrt(test_mse_rf)\n",
        "test_r2_rf = r2_score(y_test, y_pred_test_rf)\n",
        "\n",
        "# Print Random Forest results\n",
        "print(\"Random Forest Results:\")\n",
        "print(f\"MSE on Training Set: {train_mse_rf}\")\n",
        "print(f\"RMSE on Training Set: {train_rmse_rf}\")\n",
        "print(f\"R-Squared on Training Set: {train_r2_rf}\")\n",
        "print()\n",
        "print(f\"MSE on Test Set: {test_mse_rf}\")\n",
        "print(f\"RMSE on Test Set: {test_rmse_rf}\")\n",
        "print(f\"R-Squared on Test Set: {test_r2_rf}\")\n"
      ]
    },
    {
      "cell_type": "code",
      "execution_count": null,
      "id": "2dd1b8c0",
      "metadata": {
        "id": "2dd1b8c0",
        "outputId": "77c0701d-6d4f-40d1-dbfd-684ed05773ba"
      },
      "outputs": [
        {
          "name": "stdout",
          "output_type": "stream",
          "text": [
            "Ridge Regression Results:\n",
            "MSE on Training Set: 975331098.8907645\n",
            "RMSE on Training Set: 31230.291367369027\n",
            "R-Squared on Training Set: 0.4103400666199557\n",
            "\n",
            "MSE on Test Set: 970102465.8111548\n",
            "RMSE on Test Set: 31146.467950815142\n",
            "R-Squared on Test Set: 0.4067825842160281\n"
          ]
        }
      ],
      "source": [
        "from sklearn.linear_model import Ridge\n",
        "\n",
        "# Best hyperparameters for Ridge Regression (from previous GridSearch)\n",
        "best_ridge_params = ridge_grid_search.best_params_\n",
        "\n",
        "# Initialize and train Ridge model with best hyperparameters\n",
        "ridge_model = Ridge(alpha=best_ridge_params['alpha'])\n",
        "ridge_model.fit(X_train_final, y_train)\n",
        "\n",
        "# Predict on training and test sets\n",
        "y_pred_train_ridge = ridge_model.predict(X_train_final)\n",
        "y_pred_test_ridge = ridge_model.predict(X_test_final)\n",
        "\n",
        "# Calculate performance metrics for Ridge Regression\n",
        "train_mse_ridge = mean_squared_error(y_train, y_pred_train_ridge)\n",
        "train_rmse_ridge = np.sqrt(train_mse_ridge)\n",
        "train_r2_ridge = r2_score(y_train, y_pred_train_ridge)\n",
        "\n",
        "test_mse_ridge = mean_squared_error(y_test, y_pred_test_ridge)\n",
        "test_rmse_ridge = np.sqrt(test_mse_ridge)\n",
        "test_r2_ridge = r2_score(y_test, y_pred_test_ridge)\n",
        "\n",
        "# Print Ridge Regression results\n",
        "print(\"Ridge Regression Results:\")\n",
        "print(f\"MSE on Training Set: {train_mse_ridge}\")\n",
        "print(f\"RMSE on Training Set: {train_rmse_ridge}\")\n",
        "print(f\"R-Squared on Training Set: {train_r2_ridge}\")\n",
        "print()\n",
        "print(f\"MSE on Test Set: {test_mse_ridge}\")\n",
        "print(f\"RMSE on Test Set: {test_rmse_ridge}\")\n",
        "print(f\"R-Squared on Test Set: {test_r2_ridge}\")\n"
      ]
    },
    {
      "cell_type": "markdown",
      "id": "287c982e",
      "metadata": {
        "id": "287c982e"
      },
      "source": [
        "# comparision between two models"
      ]
    },
    {
      "cell_type": "code",
      "execution_count": null,
      "id": "d8e7383c",
      "metadata": {
        "id": "d8e7383c",
        "outputId": "6e6e6932-b29e-49cb-e2d6-43273d4a510b"
      },
      "outputs": [
        {
          "data": {
            "image/png": "[encoded data removed]",
            "text/plain": [
              "<Figure size 1500x600 with 3 Axes>"
            ]
          },
          "metadata": {},
          "output_type": "display_data"
        }
      ],
      "source": [
        "import matplotlib.pyplot as plt\n",
        "import numpy as np\n",
        "\n",
        "# Define the data\n",
        "metrics = ['MSE', 'RMSE', 'R²']\n",
        "random_forest = [461547172.5649871, 21483.648958335434, 0.717764019141562]\n",
        "ridge_regression = [970102465.8111548, 31146.467950815142, 0.4067825842160281]\n",
        "\n",
        "# Set up the figure with 3 subplots (one for each metric)\n",
        "fig, axes = plt.subplots(1, 3, figsize=(15, 6))\n",
        "\n",
        "# Create bar plots for each metric\n",
        "axes[0].bar(['Random Forest', 'Ridge Regression'], [random_forest[0], ridge_regression[0]], color=['b', 'r'])\n",
        "axes[0].set_title('MSE Comparison')\n",
        "axes[0].set_ylabel('MSE')\n",
        "\n",
        "axes[1].bar(['Random Forest', 'Ridge Regression'], [random_forest[1], ridge_regression[1]], color=['b', 'r'])\n",
        "axes[1].set_title('RMSE Comparison')\n",
        "axes[1].set_ylabel('RMSE')\n",
        "\n",
        "axes[2].bar(['Random Forest', 'Ridge Regression'], [random_forest[2], ridge_regression[2]], color=['b', 'r'])\n",
        "axes[2].set_title('R² Comparison')\n",
        "axes[2].set_ylabel('R²')\n",
        "\n",
        "# Adjust layout and display\n",
        "plt.tight_layout()\n",
        "plt.show()\n"
      ]
    },
    {
      "cell_type": "markdown",
      "id": "8ed1838f",
      "metadata": {
        "id": "8ed1838f"
      },
      "source": [
        "### Conclusion:\n",
        "\n",
        "1. **Model Performance**: Random Forest performed better than Ridge Regression, with higher R² (0.72) and lower MSE/RMSE on both train and test sets.\n",
        "\n",
        "2. **Impact of Methods**: Cross-validation and feature selection improved model accuracy by reducing noise and optimizing hyperparameters.\n",
        "\n",
        "3. **Insights and Future Directions**: Random Forest is more suitable for this task. Future work could explore nonlinear features, ensemble methods, and further tuning for Ridge Regression.\n"
      ]
    },
    {
      "cell_type": "code",
      "source": [
        "from google.colab import drive\n",
        "drive.mount('/content/drive')"
      ],
      "metadata": {
        "colab": {
          "base_uri": "https://localhost:8080/"
        },
        "id": "nZiXzUz86pjA",
        "outputId": "34a664fa-c3b4-40ae-e2cd-cdd54138144d"
      },
      "id": "nZiXzUz86pjA",
      "execution_count": 1,
      "outputs": [
        {
          "output_type": "stream",
          "name": "stdout",
          "text": [
            "Mounted at /content/drive\n"
          ]
        }
      ]
    }
  ],
  "metadata": {
    "kernelspec": {
      "display_name": "Python 3 (ipykernel)",
      "language": "python",
      "name": "python3"
    },
    "language_info": {
      "codemirror_mode": {
        "name": "ipython",
        "version": 3
      },
      "file_extension": ".py",
      "mimetype": "text/x-python",
      "name": "python",
      "nbconvert_exporter": "python",
      "pygments_lexer": "ipython3",
      "version": "3.10.9"
    },
    "colab": {
      "provenance": []
    }
  },
  "nbformat": 4,
  "nbformat_minor": 5
}