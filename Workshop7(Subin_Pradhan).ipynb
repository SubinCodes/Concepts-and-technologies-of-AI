{
  "nbformat": 4,
  "nbformat_minor": 0,
  "metadata": {
    "colab": {
      "provenance": []
    },
    "kernelspec": {
      "name": "python3",
      "display_name": "Python 3"
    },
    "language_info": {
      "name": "python"
    }
  },
  "cells": [
    {
      "cell_type": "code",
      "execution_count": 6,
      "metadata": {
        "colab": {
          "base_uri": "https://localhost:8080/"
        },
        "id": "bJAMOl_pQ75z",
        "outputId": "3a8f36b5-97b9-4fe4-abf1-788114b888d4"
      },
      "outputs": [
        {
          "output_type": "stream",
          "name": "stdout",
          "text": [
            "\n",
            "System:\n",
            "    python: 3.10.12 (main, Nov  6 2024, 20:22:13) [GCC 11.4.0]\n",
            "executable: /usr/bin/python3\n",
            "   machine: Linux-6.1.85+-x86_64-with-glibc2.35\n",
            "\n",
            "Python dependencies:\n",
            "      sklearn: 1.6.0\n",
            "          pip: 24.1.2\n",
            "   setuptools: 75.1.0\n",
            "        numpy: 1.26.4\n",
            "        scipy: 1.13.1\n",
            "       Cython: 3.0.11\n",
            "       pandas: 2.2.2\n",
            "   matplotlib: 3.10.0\n",
            "       joblib: 1.4.2\n",
            "threadpoolctl: 3.5.0\n",
            "\n",
            "Built with OpenMP: True\n",
            "\n",
            "threadpoolctl info:\n",
            "       user_api: blas\n",
            "   internal_api: openblas\n",
            "    num_threads: 2\n",
            "         prefix: libopenblas\n",
            "       filepath: /usr/local/lib/python3.10/dist-packages/numpy.libs/libopenblas64_p-r0-0cf96a72.3.23.dev.so\n",
            "        version: 0.3.23.dev\n",
            "threading_layer: pthreads\n",
            "   architecture: Haswell\n",
            "\n",
            "       user_api: blas\n",
            "   internal_api: openblas\n",
            "    num_threads: 2\n",
            "         prefix: libopenblas\n",
            "       filepath: /usr/local/lib/python3.10/dist-packages/scipy.libs/libopenblasp-r0-01191904.3.27.so\n",
            "        version: 0.3.27\n",
            "threading_layer: pthreads\n",
            "   architecture: Haswell\n",
            "\n",
            "       user_api: openmp\n",
            "   internal_api: openmp\n",
            "    num_threads: 2\n",
            "         prefix: libgomp\n",
            "       filepath: /usr/local/lib/python3.10/dist-packages/scikit_learn.libs/libgomp-a34b3233.so.1.0.0\n",
            "        version: None\n"
          ]
        }
      ],
      "source": [
        "import sklearn\n",
        "\n",
        "# Display version information for scikit-learn\n",
        "sklearn.show_versions()"
      ]
    },
    {
      "cell_type": "code",
      "source": [
        "import pandas as pd\n",
        "\n",
        "# Load the dataset\n",
        "data = pd.read_csv('/content/drive/MyDrive/Datasets/diabetes.csv')\n",
        "\n",
        "# Display the first few rows\n",
        "print(data.head())\n"
      ],
      "metadata": {
        "colab": {
          "base_uri": "https://localhost:8080/"
        },
        "id": "cIrJT_NgRHcB",
        "outputId": "ad6e585a-a57a-4070-ab94-682a175e2e42"
      },
      "execution_count": 7,
      "outputs": [
        {
          "output_type": "stream",
          "name": "stdout",
          "text": [
            "   Pregnancies  Glucose  BloodPressure  SkinThickness  Insulin   BMI  \\\n",
            "0            6      148             72             35        0  33.6   \n",
            "1            1       85             66             29        0  26.6   \n",
            "2            8      183             64              0        0  23.3   \n",
            "3            1       89             66             23       94  28.1   \n",
            "4            0      137             40             35      168  43.1   \n",
            "\n",
            "   DiabetesPedigreeFunction  Age  Outcome  \n",
            "0                     0.627   50        1  \n",
            "1                     0.351   31        0  \n",
            "2                     0.672   32        1  \n",
            "3                     0.167   21        0  \n",
            "4                     2.288   33        1  \n"
          ]
        }
      ]
    },
    {
      "cell_type": "code",
      "source": [
        "# Features and target for regression\n",
        "X_reg = data.drop('BloodPressure', axis=1)\n",
        "y_reg = data['BloodPressure']\n",
        "X_reg, y_reg"
      ],
      "metadata": {
        "colab": {
          "base_uri": "https://localhost:8080/"
        },
        "id": "F6gwhjUHROK1",
        "outputId": "01778963-04e4-4e88-ccc8-2d4cb02898de"
      },
      "execution_count": 8,
      "outputs": [
        {
          "output_type": "execute_result",
          "data": {
            "text/plain": [
              "(     Pregnancies  Glucose  SkinThickness  Insulin   BMI  \\\n",
              " 0              6      148             35        0  33.6   \n",
              " 1              1       85             29        0  26.6   \n",
              " 2              8      183              0        0  23.3   \n",
              " 3              1       89             23       94  28.1   \n",
              " 4              0      137             35      168  43.1   \n",
              " ..           ...      ...            ...      ...   ...   \n",
              " 763           10      101             48      180  32.9   \n",
              " 764            2      122             27        0  36.8   \n",
              " 765            5      121             23      112  26.2   \n",
              " 766            1      126              0        0  30.1   \n",
              " 767            1       93             31        0  30.4   \n",
              " \n",
              "      DiabetesPedigreeFunction  Age  Outcome  \n",
              " 0                       0.627   50        1  \n",
              " 1                       0.351   31        0  \n",
              " 2                       0.672   32        1  \n",
              " 3                       0.167   21        0  \n",
              " 4                       2.288   33        1  \n",
              " ..                        ...  ...      ...  \n",
              " 763                     0.171   63        0  \n",
              " 764                     0.340   27        0  \n",
              " 765                     0.245   30        0  \n",
              " 766                     0.349   47        1  \n",
              " 767                     0.315   23        0  \n",
              " \n",
              " [768 rows x 8 columns],\n",
              " 0      72\n",
              " 1      66\n",
              " 2      64\n",
              " 3      66\n",
              " 4      40\n",
              "        ..\n",
              " 763    76\n",
              " 764    70\n",
              " 765    72\n",
              " 766    60\n",
              " 767    70\n",
              " Name: BloodPressure, Length: 768, dtype: int64)"
            ]
          },
          "metadata": {},
          "execution_count": 8
        }
      ]
    },
    {
      "cell_type": "code",
      "source": [
        "import pandas as pd\n",
        "from sklearn.model_selection import train_test_split\n",
        "from sklearn.linear_model import LinearRegression\n",
        "from sklearn.metrics import mean_squared_error, r2_score\n",
        "\n",
        "\n",
        "# Step 2: Prepare data for regression\n",
        "# Features: All columns except 'BloodPressure'\n",
        "X_reg = data.drop('BloodPressure', axis=1)\n",
        "# Target: 'BloodPressure'\n",
        "y_reg = data['BloodPressure']\n",
        "\n",
        "# Step 3: Split the data into training and testing sets\n",
        "X_train_reg, X_test_reg, y_train_reg, y_test_reg = train_test_split(X_reg, y_reg, test_size=0.2, random_state=42)\n",
        "\n",
        "# Step 4: Create and train the Linear Regression model\n",
        "reg_model = LinearRegression()\n",
        "reg_model.fit(X_train_reg, y_train_reg)\n",
        "\n",
        "# Step 5: Make predictions\n",
        "y_pred_reg = reg_model.predict(X_test_reg)\n",
        "\n",
        "# Step 6: Evaluate the model\n",
        "mse = mean_squared_error(y_test_reg, y_pred_reg)\n",
        "r2 = r2_score(y_test_reg, y_pred_reg)\n",
        "\n",
        "print(f'Mean Squared Error: {mse}')\n",
        "print(f'R^2 Score: {r2}')\n"
      ],
      "metadata": {
        "colab": {
          "base_uri": "https://localhost:8080/"
        },
        "id": "R-ebbxsPSuXT",
        "outputId": "3f36e3d1-cd2c-4b6f-f0fb-4fc7033bd285"
      },
      "execution_count": 9,
      "outputs": [
        {
          "output_type": "stream",
          "name": "stdout",
          "text": [
            "Mean Squared Error: 402.8523890426408\n",
            "R^2 Score: 0.19403775986668115\n"
          ]
        }
      ]
    },
    {
      "cell_type": "code",
      "source": [
        "import pandas as pd\n",
        "from sklearn.model_selection import train_test_split\n",
        "from sklearn.linear_model import LogisticRegression\n",
        "from sklearn.metrics import accuracy_score, classification_report, confusion_matrix\n",
        "\n",
        "\n",
        "# Step 2: Prepare data for classification\n",
        "# Features: All columns except 'Outcome'\n",
        "X_clf = data.drop('Outcome', axis=1)\n",
        "# Target: 'Outcome'\n",
        "y_clf = data['Outcome']\n",
        "\n",
        "# Step 3: Split the data into training and testing sets\n",
        "X_train_clf, X_test_clf, y_train_clf, y_test_clf = train_test_split(X_clf, y_clf, test_size=0.2, random_state=42)\n",
        "\n",
        "# Step 4: Create and train the Logistic Regression model\n",
        "clf_model = LogisticRegression(max_iter=200)\n",
        "clf_model.fit(X_train_clf, y_train_clf)\n",
        "\n",
        "# Step 5: Make predictions\n",
        "y_pred_clf = clf_model.predict(X_test_clf)\n",
        "\n",
        "# Step 6: Evaluate the model\n",
        "accuracy = accuracy_score(y_test_clf, y_pred_clf)\n",
        "conf_matrix = confusion_matrix(y_test_clf, y_pred_clf)\n",
        "class_report = classification_report(y_test_clf, y_pred_clf)\n",
        "\n",
        "# Step 7: Print evaluation results\n",
        "print(f'Accuracy: {accuracy}')\n",
        "print('Confusion Matrix:')\n",
        "print(conf_matrix)\n",
        "print('Classification Report:')\n",
        "print(class_report)\n"
      ],
      "metadata": {
        "colab": {
          "base_uri": "https://localhost:8080/"
        },
        "id": "mjsNASliS2Qu",
        "outputId": "fea4d689-e005-4d47-e878-565a85829af0"
      },
      "execution_count": 10,
      "outputs": [
        {
          "output_type": "stream",
          "name": "stdout",
          "text": [
            "Accuracy: 0.7467532467532467\n",
            "Confusion Matrix:\n",
            "[[78 21]\n",
            " [18 37]]\n",
            "Classification Report:\n",
            "              precision    recall  f1-score   support\n",
            "\n",
            "           0       0.81      0.79      0.80        99\n",
            "           1       0.64      0.67      0.65        55\n",
            "\n",
            "    accuracy                           0.75       154\n",
            "   macro avg       0.73      0.73      0.73       154\n",
            "weighted avg       0.75      0.75      0.75       154\n",
            "\n"
          ]
        }
      ]
    },
    {
      "cell_type": "code",
      "source": [
        "from google.colab import drive\n",
        "drive.mount('/content/drive')"
      ],
      "metadata": {
        "colab": {
          "base_uri": "https://localhost:8080/"
        },
        "id": "q-1hWUpLj_c9",
        "outputId": "a5c29a93-4a55-438a-d32b-e9000c888f10"
      },
      "execution_count": 11,
      "outputs": [
        {
          "output_type": "stream",
          "name": "stdout",
          "text": [
            "Drive already mounted at /content/drive; to attempt to forcibly remount, call drive.mount(\"/content/drive\", force_remount=True).\n"
          ]
        }
      ]
    },
    {
      "cell_type": "markdown",
      "source": [
        "\n",
        "### Summary\n",
        "\n",
        "- **Regression Task**:Trained a Linear Regression model to predict Blood Pressure and evaluated it using Mean Squared Error and R² Score.\n",
        "- **Classification Task**:Trained a Logistic Regression model to predict diabetes and evaluated it using accuracy, confusion matrix, and classification report.\n",
        "\n"
      ],
      "metadata": {
        "id": "csN0Iok4TY4g"
      }
    },
    {
      "cell_type": "markdown",
      "source": [
        "### Additional Considerations\n",
        "\n",
        "- **Hyperparameter Tuning**: For better performance, consider tuning hyperparameters using techniques like Grid Search or Random Search.\n",
        "- **Feature Scaling**: For models like KNN, ensure to scale your features using `StandardScaler` or `MinMaxScaler`.\n",
        "- **Exploratory Data Analysis (EDA)**: Perform EDA to understand the dataset better and visualize relationships between features.\n"
      ],
      "metadata": {
        "id": "doM0GfgLTjOa"
      }
    }
  ]
}