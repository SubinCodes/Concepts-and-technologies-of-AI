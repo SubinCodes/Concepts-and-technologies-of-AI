{
  "nbformat": 4,
  "nbformat_minor": 0,
  "metadata": {
    "colab": {
      "provenance": []
    },
    "kernelspec": {
      "name": "python3",
      "display_name": "Python 3"
    },
    "language_info": {
      "name": "python"
    }
  },
  "cells": [
    {
      "cell_type": "code",
      "execution_count": 1,
      "metadata": {
        "id": "OzFzQdLUB8K4"
      },
      "outputs": [],
      "source": [
        "import numpy as np\n",
        "import pandas as pd\n",
        "from sklearn.datasets import load_wine\n",
        "from sklearn.model_selection import train_test_split, GridSearchCV, RandomizedSearchCV\n",
        "from sklearn.tree import DecisionTreeClassifier, DecisionTreeRegressor\n",
        "from sklearn.ensemble import RandomForestClassifier, RandomForestRegressor\n",
        "from sklearn.metrics import f1_score, mean_squared_error\n"
      ]
    },
    {
      "cell_type": "markdown",
      "source": [
        "***Using the Wine Dataset from scikit-learn***"
      ],
      "metadata": {
        "id": "ilUOd1hACsvU"
      }
    },
    {
      "cell_type": "code",
      "source": [
        "# Load the Iris dataset\n",
        "data = load_wine()\n",
        "X = data.data\n",
        "y = data.target\n",
        "# Split into training and test sets\n",
        "X_train, X_test, y_train, y_test = train_test_split(X,y, test_size=0.2, random_state=42)"
      ],
      "metadata": {
        "id": "bdJuWIa1CueT"
      },
      "execution_count": 2,
      "outputs": []
    },
    {
      "cell_type": "markdown",
      "source": [
        "***1. Implement Classification Models:***"
      ],
      "metadata": {
        "id": "Y7BB1T3tC-14"
      }
    },
    {
      "cell_type": "markdown",
      "source": [
        "• Train a Decision Tree Classifier and a Random Forest Classifier using scikit-learn."
      ],
      "metadata": {
        "id": "FFHtc5xWDBtP"
      }
    },
    {
      "cell_type": "code",
      "source": [
        "from sklearn.tree import DecisionTreeClassifier\n",
        "from sklearn.ensemble import RandomForestClassifier\n",
        "from sklearn.metrics import accuracy_score\n",
        "\n",
        "# Training the Decision Tree classifier\n",
        "dt_classifier = DecisionTreeClassifier(random_state=42)\n",
        "dt_classifier.fit(X_train, y_train)\n",
        "\n",
        "# Predict on the test set\n",
        "y_pred_dt = dt_classifier.predict(X_test)\n",
        "\n",
        "# Training the Random Forest classifier\n",
        "rf_classifier = RandomForestClassifier(random_state=42)\n",
        "rf_classifier.fit(X_train, y_train)\n",
        "\n",
        "# Predict on the test set\n",
        "y_pred_rf = rf_classifier.predict(X_test)\n",
        "\n",
        "# Calculate accuracy for Decision Tree\n",
        "accuracy_dt = accuracy_score(y_test, y_pred_dt)\n",
        "print(f\"Decision Tree Accuracy: {accuracy_dt:.4f}\")\n",
        "\n",
        "# Calculate accuracy for Random Forest\n",
        "accuracy_rf = accuracy_score(y_test, y_pred_rf)\n",
        "print(f\"Random Forest Accuracy: {accuracy_rf:.4f}\")\n"
      ],
      "metadata": {
        "colab": {
          "base_uri": "https://localhost:8080/"
        },
        "id": "hPgZ4JgeDFoC",
        "outputId": "453e6111-3c3a-48c7-8026-277fa46b2f9a"
      },
      "execution_count": 5,
      "outputs": [
        {
          "output_type": "stream",
          "name": "stdout",
          "text": [
            "Decision Tree Accuracy: 0.9444\n",
            "Random Forest Accuracy: 1.0000\n"
          ]
        }
      ]
    },
    {
      "cell_type": "markdown",
      "source": [
        "• Compare the models based on their F1 scores."
      ],
      "metadata": {
        "id": "rAHaRO_0N21O"
      }
    },
    {
      "cell_type": "code",
      "source": [
        "from sklearn.metrics import f1_score # Import f1_score\n",
        "\n",
        "# Calculate F1 scores\n",
        "f1_dt = f1_score(y_test, y_pred_dt, average='weighted') # Use weighted average for multi-class\n",
        "f1_rf = f1_score(y_test, y_pred_rf, average='weighted')\n",
        "\n",
        "print(f\"Decision Tree F1 Score: {f1_dt}\")\n",
        "print(f\"Random Forest F1 Score: {f1_rf}\")\n",
        "\n",
        "# Compare the models\n",
        "if f1_dt > f1_rf:\n",
        "    print(\"Decision Tree performs better based on F1 score.\")\n",
        "elif f1_rf > f1_dt:\n",
        "    print(\"Random Forest performs better based on F1 score.\")\n",
        "else:\n",
        "    print(\"Both models have the same F1 score.\")"
      ],
      "metadata": {
        "colab": {
          "base_uri": "https://localhost:8080/"
        },
        "id": "-IOn5YE9N3bi",
        "outputId": "d8b860d6-94a4-4cc8-c660-ecc6a6471a98"
      },
      "execution_count": 6,
      "outputs": [
        {
          "output_type": "stream",
          "name": "stdout",
          "text": [
            "Decision Tree F1 Score: 0.9439974457215836\n",
            "Random Forest F1 Score: 1.0\n",
            "Random Forest performs better based on F1 score.\n"
          ]
        }
      ]
    },
    {
      "cell_type": "markdown",
      "source": [
        "***2. Hyperparameter Tuning:***"
      ],
      "metadata": {
        "id": "xShKZDrWN5ds"
      }
    },
    {
      "cell_type": "markdown",
      "source": [
        "• Identify three hyperparameters of the Random Forest Classifier."
      ],
      "metadata": {
        "id": "ARXGaCSmN9NO"
      }
    },
    {
      "cell_type": "code",
      "source": [
        "rf_params = {\n",
        "    'n_estimators': [50, 100, 150],\n",
        "    'max_depth': [None, 10, 20, 30],\n",
        "    'min_samples_split': [2, 5, 10]\n",
        "}"
      ],
      "metadata": {
        "id": "qVm38OObN-zb"
      },
      "execution_count": 7,
      "outputs": []
    },
    {
      "cell_type": "markdown",
      "source": [
        "• Perform hyperparameter tuning using GridSearchCV to optimize these parameters."
      ],
      "metadata": {
        "id": "EW-eItMjN_l4"
      }
    },
    {
      "cell_type": "code",
      "source": [
        "from sklearn.model_selection import GridSearchCV\n",
        "grid_search_rf = GridSearchCV(RandomForestClassifier(random_state=42), rf_params, cv=5, scoring='f1_weighted')\n",
        "grid_search_rf.fit(X_train, y_train)\n",
        "print(\"Best Hyperparameters for Random Forest Classifier:\", grid_search_rf.best_params_)"
      ],
      "metadata": {
        "colab": {
          "base_uri": "https://localhost:8080/"
        },
        "id": "E5Ro7iYnOCdR",
        "outputId": "146c6fd4-e049-40ff-a004-71ce19cfe66c"
      },
      "execution_count": 8,
      "outputs": [
        {
          "output_type": "stream",
          "name": "stdout",
          "text": [
            "Best Hyperparameters for Random Forest Classifier: {'max_depth': None, 'min_samples_split': 2, 'n_estimators': 100}\n"
          ]
        }
      ]
    },
    {
      "cell_type": "markdown",
      "source": [
        "***3. Implement Regression Model:***\n",
        "\n"
      ],
      "metadata": {
        "id": "_6ct4o5GOFHD"
      }
    },
    {
      "cell_type": "markdown",
      "source": [
        "• Train a Decision Tree Regressor and a Random Forest Regressor using scikit-learn."
      ],
      "metadata": {
        "id": "0GIe-OBSOIX5"
      }
    },
    {
      "cell_type": "code",
      "source": [
        "#data split for the regression\n",
        "X_train_reg, X_test_reg, y_train_reg, y_test_reg = train_test_split(X, y, test_size=0.2, random_state=42)\n",
        "dt_reg = DecisionTreeRegressor(random_state=42)\n",
        "dt_reg.fit(X_train_reg, y_train_reg)\n",
        "y_pred_dt_reg = dt_reg.predict(X_test_reg)\n",
        "mse_dt = mean_squared_error(y_test_reg, y_pred_dt_reg)\n",
        "#random forest regressor\n",
        "rf_reg = RandomForestRegressor(random_state=42)\n",
        "rf_reg.fit(X_train_reg, y_train_reg)\n",
        "y_pred_rf_reg = rf_reg.predict(X_test_reg)\n",
        "mse_rf = mean_squared_error(y_test_reg, y_pred_rf_reg)\n",
        "#for error\n",
        "#error\n",
        "print(\"MSE - Decision Tree Regressor:\", mse_dt)\n",
        "print(\"MSE - Random Forest Regressor:\", mse_rf)"
      ],
      "metadata": {
        "id": "4cDLijsFOKB3",
        "colab": {
          "base_uri": "https://localhost:8080/"
        },
        "outputId": "b388185f-6f48-4282-bbf2-6c92e88e903d"
      },
      "execution_count": 9,
      "outputs": [
        {
          "output_type": "stream",
          "name": "stdout",
          "text": [
            "MSE - Decision Tree Regressor: 0.16666666666666666\n",
            "MSE - Random Forest Regressor: 0.06483333333333333\n"
          ]
        }
      ]
    },
    {
      "cell_type": "markdown",
      "source": [
        "• Identify three parameters for Random Forest Regressio and Perform hyperparameter tuning using\n",
        "RandomSearchCV to optimize these parameters."
      ],
      "metadata": {
        "id": "TPvjg042OKi-"
      }
    },
    {
      "cell_type": "code",
      "source": [
        "#hyperparameter\n",
        "rf_reg_params = {\n",
        "    'n_estimators': [50, 100, 200],\n",
        "    'max_depth': [None, 10, 20, 30],\n",
        "    'min_samples_leaf': [1, 2, 4]\n",
        "}\n",
        "\n",
        "random_search_rf_reg = RandomizedSearchCV(RandomForestRegressor(random_state=42), rf_reg_params, n_iter=20, cv=5, scoring='neg_mean_squared_error', random_state=42)\n",
        "random_search_rf_reg.fit(X_train_reg, y_train_reg)\n",
        "print(\"Best Hyperparameters for Random Forest Regressor:\", random_search_rf_reg.best_params_)\n",
        "\n"
      ],
      "metadata": {
        "id": "h0PuTePtOMYa",
        "colab": {
          "base_uri": "https://localhost:8080/"
        },
        "outputId": "2d0a0da8-08df-4b6a-8850-f7854f72b0d5"
      },
      "execution_count": 10,
      "outputs": [
        {
          "output_type": "stream",
          "name": "stdout",
          "text": [
            "Best Hyperparameters for Random Forest Regressor: {'n_estimators': 200, 'min_samples_leaf': 1, 'max_depth': 30}\n"
          ]
        }
      ]
    }
  ]
}