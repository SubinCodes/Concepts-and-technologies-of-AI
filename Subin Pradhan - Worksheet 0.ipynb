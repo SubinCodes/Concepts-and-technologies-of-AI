{
  "nbformat": 4,
  "nbformat_minor": 0,
  "metadata": {
    "colab": {
      "provenance": []
    },
    "kernelspec": {
      "name": "python3",
      "display_name": "Python 3"
    },
    "language_info": {
      "name": "python"
    }
  },
  "cells": [
    {
      "cell_type": "markdown",
      "source": [
        " Task 1. Classify Temperatures:\n",
        " 1. Create empty lists for temperature classifications:\n",
        " (a) Cold: temperatures below 10°C.\n",
        " (b) Mild: temperatures between 10°C and 15°C.\n",
        " (c) Comfortable: temperatures between 15°C and 20°C.\n",
        " 2. Iterate over the temperatures list and add each temperature to the appropriate cate\n",
        "gory.\n",
        " 3. Print the lists to verify the classifications."
      ],
      "metadata": {
        "id": "dWxof9bAy9Kh"
      }
    },
    {
      "cell_type": "code",
      "execution_count": 2,
      "metadata": {
        "colab": {
          "base_uri": "https://localhost:8080/"
        },
        "id": "bro6WxRuvO8P",
        "outputId": "a48eac65-0208-4e83-b508-b6a7a82bc70b"
      },
      "outputs": [
        {
          "output_type": "stream",
          "name": "stdout",
          "text": [
            "Cold temperatures: [8.2, 7.9, 9.0, 8.5, 7.7, 8.4, 9.5, 8.1, 7.6, 8.0, 7.8, 8.7, 9.2, 8.3, 8.9, 7.8]\n",
            "Mild temperatures: [14.1, 13.5, 13.0, 12.9, 13.3, 14.0, 13.4, 14.2, 12.8, 13.7, 13.6, 13.8, 13.9, 12.7, 13.1, 12.5]\n",
            "Comfortable temperatures: [17.4, 18.0, 17.8, 16.5, 17.2, 16.7, 18.3, 17.9, 17.0, 16.8, 17.5, 17.1, 18.1, 16.4, 18.2, 16.6]\n"
          ]
        }
      ],
      "source": [
        "temperatures = [\n",
        "    8.2, 17.4, 14.1, 7.9, 18.0, 13.5, 9.0, 17.8, 13.0, 8.5,\n",
        "    16.5, 12.9, 7.7, 17.2, 13.3, 8.4, 16.7, 14.0, 9.5, 18.3,\n",
        "    13.4, 8.1, 17.9, 14.2, 7.6, 17.0, 12.8, 8.0, 16.8, 13.7,\n",
        "    7.8, 17.5, 13.6, 8.7, 17.1, 13.8, 9.2, 18.1, 13.9, 8.3,\n",
        "    16.4, 12.7, 8.9, 18.2, 13.1, 7.8, 16.6, 12.5\n",
        "]\n",
        "\n",
        "cold = []\n",
        "mild = []\n",
        "comfortable = []\n",
        "\n",
        "for temp in temperatures:\n",
        "    if temp < 10:\n",
        "        cold.append(temp)\n",
        "    elif 10 <= temp < 15:\n",
        "        mild.append(temp)\n",
        "    elif 15 <= temp <= 20:\n",
        "        comfortable.append(temp)\n",
        "\n",
        "print(\"Cold temperatures:\", cold)\n",
        "print(\"Mild temperatures:\", mild)\n",
        "print(\"Comfortable temperatures:\", comfortable)"
      ]
    },
    {
      "cell_type": "markdown",
      "source": [
        " Task 2. Based on Data- Answer all the Questions:\n",
        " 1. How many times was it mild?\n",
        " (a) Hint: Count the number of items in the mild list and print the result.\n",
        " 2. How many times was it comfortable?\n",
        " 3. How many times was it cold?"
      ],
      "metadata": {
        "id": "_THzWs8z0orr"
      }
    },
    {
      "cell_type": "code",
      "source": [
        "cold_count = len(cold)\n",
        "mild_count = len(mild)\n",
        "comfortable_count = len(comfortable)\n",
        "\n",
        "print(f\"Total number of cold temperatures: {cold_count}\")\n",
        "print(f\"Total number of mild temperatures: {mild_count}\")\n",
        "print(f\"Total number of comfortable temperatures: {comfortable_count}\")"
      ],
      "metadata": {
        "colab": {
          "base_uri": "https://localhost:8080/"
        },
        "id": "nhIxiPFG0tPB",
        "outputId": "01b20e7f-f080-4073-b0ce-c8d2f94d4a56"
      },
      "execution_count": 3,
      "outputs": [
        {
          "output_type": "stream",
          "name": "stdout",
          "text": [
            "Total number of cold temperatures: 16\n",
            "Total number of mild temperatures: 16\n",
            "Total number of comfortable temperatures: 16\n"
          ]
        }
      ]
    },
    {
      "cell_type": "markdown",
      "source": [
        " Task 3. Convert Temperatures from Celsius to Fahrenheit\n",
        " Using the formula for temperature conversion, convert each reading from Celsius to Fahren\n",
        "heit and store it in a new list called temperatures_fahrenheit.\n",
        " Formula:\n",
        " Fahrenheit = (Celsius × 9\n",
        " 5 ) +32\n",
        " 1. Iterate over the temperatures list and apply the formula to convert each temperature.\n",
        " 2. Store the results in the new list.\n",
        " 3. Print the converted Fahrenheit values."
      ],
      "metadata": {
        "id": "ntwj2__C0_7t"
      }
    },
    {
      "cell_type": "code",
      "source": [
        "temperature=[\n",
        "    8.2, 17.4, 14.1, 7.9, 18.0, 13.5, 9.0, 17.8, 13.0, 8.5,\n",
        "    16.5, 12.9, 7.7, 17.2, 13.3, 8.4, 16.7, 14.0, 9.5, 18.3,\n",
        "    13.4, 8.1, 17.9, 14.2, 7.6, 17.0, 12.8, 8.0, 16.8, 13.7,\n",
        "    7.8, 17.5, 13.6, 8.7, 17.1, 13.8, 9.2, 18.1, 13.9, 8.3,\n",
        "    16.4, 12.7, 8.9, 18.2, 13.1, 7.8, 16.6, 12.5\n",
        "]\n",
        "temperature_fahrenheit = []\n",
        "\n",
        "for temp in temperature:\n",
        "    fahrenheit = (temp * 9 / 5) + 32\n",
        "    temperature_fahrenheit.append(fahrenheit)\n",
        "\n",
        "print(\"Temperatures in Fahrenheit:\", temperature_fahrenheit)"
      ],
      "metadata": {
        "colab": {
          "base_uri": "https://localhost:8080/"
        },
        "id": "jWEEjz4F1EOk",
        "outputId": "bfd0c6bb-ebbf-4565-9f58-02b2b8a059e0"
      },
      "execution_count": 4,
      "outputs": [
        {
          "output_type": "stream",
          "name": "stdout",
          "text": [
            "Temperatures in Fahrenheit: [46.76, 63.32, 57.379999999999995, 46.22, 64.4, 56.3, 48.2, 64.04, 55.4, 47.3, 61.7, 55.22, 45.86, 62.959999999999994, 55.94, 47.120000000000005, 62.059999999999995, 57.2, 49.1, 64.94, 56.120000000000005, 46.58, 64.22, 57.56, 45.68, 62.6, 55.04, 46.4, 62.24, 56.66, 46.04, 63.5, 56.48, 47.66, 62.78, 56.84, 48.56, 64.58, 57.02, 46.94, 61.519999999999996, 54.86, 48.02, 64.75999999999999, 55.58, 46.04, 61.88, 54.5]\n"
          ]
        }
      ]
    },
    {
      "cell_type": "markdown",
      "source": [
        " Task 4. Analyze Temperature Patterns by Time of Day:\n",
        " Scenario: Each day’s readings are grouped as:\n",
        " • Night (00-08),\n",
        " • Evening (08-16),\n",
        " • Day (16-24).\n",
        " 1. Create empty lists for night, day, and evening temperatures.\n",
        " 2. Iterate over the temperatures list, assigning values to each time-of-day list based on\n",
        " their position.\n",
        " 3. Calculate and print the average day-time temperature.\n",
        " 4. (Optional) Plot ”day vs. temperature” using matplotlib."
      ],
      "metadata": {
        "id": "p3QyYuvz1OEN"
      }
    },
    {
      "cell_type": "code",
      "source": [
        "night_temps = temperatures[::3]\n",
        "evening_temps = temperatures[1::3]\n",
        "day_temps = temperatures[2::3]\n",
        "\n",
        "average_night_temp = sum(night_temps) / len(night_temps)\n",
        "average_evening_temp = sum(evening_temps) / len(evening_temps)\n",
        "average_day_temp = sum(day_temps) / len(day_temps)\n",
        "\n",
        "print(f\"Average night temperature: {average_night_temp:.2f}\")\n",
        "print(f\"Average evening temperature: {average_evening_temp:.2f}\")\n",
        "print(f\"Average day temperature: {average_day_temp:.2f}\")"
      ],
      "metadata": {
        "colab": {
          "base_uri": "https://localhost:8080/"
        },
        "id": "kkNd4In11VCh",
        "outputId": "03e8ac53-05e4-4911-857a-0ec651c19fdb"
      },
      "execution_count": 6,
      "outputs": [
        {
          "output_type": "stream",
          "name": "stdout",
          "text": [
            "Average night temperature: 8.35\n",
            "Average evening temperature: 17.34\n",
            "Average day temperature: 13.41\n"
          ]
        }
      ]
    },
    {
      "cell_type": "markdown",
      "source": [
        " 8.1.1 Exercise- Recursion:\n",
        " Task 1- Sum of Nested Lists:\n",
        " Scenario: You have a list that contains numbers and other lists of numbers (nested lists).\n",
        " You want to find the total sum of all the numbers in this structure.\n",
        " Task:\n",
        " • Write a recursive function sum_nested_list(nested_list) that:\n",
        " 1. Takes a nested list (a list that can contain numbers or other lists of numbers) as\n",
        " input.\n",
        " 2. Sums all numbers at every depth level of the list, regardless of how deeply nested\n",
        " the numbers are.\n",
        " • Test the function with a sample nested list, such as\n",
        " nested_list = [1, [2, [3, 4], 5], 6, [7, 8]].\n",
        " The result should be the total sum of all the numbers"
      ],
      "metadata": {
        "id": "VUpcJXcu1iL-"
      }
    },
    {
      "cell_type": "code",
      "source": [
        "def sum_nested_list(nested_list):\n",
        "    total = 0\n",
        "    for element in nested_list:\n",
        "        if isinstance(element, list):\n",
        "            total += sum_nested_list(element)\n",
        "        else:\n",
        "            total += element\n",
        "    return total\n",
        "\n",
        "nested_list = [1, [2, [3, 4], 5], 6, [7, 8]]\n",
        "print(\"Sum of nested list:\", sum_nested_list(nested_list))"
      ],
      "metadata": {
        "colab": {
          "base_uri": "https://localhost:8080/"
        },
        "id": "phMCOtAY1v67",
        "outputId": "ec145a49-0967-4843-efde-a946e86d54de"
      },
      "execution_count": 7,
      "outputs": [
        {
          "output_type": "stream",
          "name": "stdout",
          "text": [
            "Sum of nested list: 36\n"
          ]
        }
      ]
    },
    {
      "cell_type": "markdown",
      "source": [
        " Task2- Generate All Permutations of a String:"
      ],
      "metadata": {
        "id": "K0Syfghb15o7"
      }
    },
    {
      "cell_type": "code",
      "source": [
        "def generate_permutations(s):\n",
        "    if len(s) == 1:\n",
        "        return [s]\n",
        "    permutations = []\n",
        "    for i in range(len(s)):\n",
        "        for perm in generate_permutations(s[:i] + s[i+1:]):\n",
        "            permutations.append(s[i] + perm)\n",
        "    return permutations\n",
        "\n",
        "print(\"Permutations of 'abc':\", generate_permutations(\"abc\"))"
      ],
      "metadata": {
        "colab": {
          "base_uri": "https://localhost:8080/"
        },
        "id": "RWxi6-f32A0A",
        "outputId": "024f4fe1-a97a-4e94-eab4-631ac7401fe7"
      },
      "execution_count": 8,
      "outputs": [
        {
          "output_type": "stream",
          "name": "stdout",
          "text": [
            "Permutations of 'abc': ['abc', 'acb', 'bac', 'bca', 'cab', 'cba']\n"
          ]
        }
      ]
    },
    {
      "cell_type": "markdown",
      "source": [
        "Task3- Directory Size Calculation:"
      ],
      "metadata": {
        "id": "ILmODKuy2XeN"
      }
    },
    {
      "cell_type": "code",
      "source": [
        "def calculate_directory_size(directory):\n",
        "    total_size = 0\n",
        "    for key, value in directory.items():\n",
        "        if isinstance(value, dict):\n",
        "            total_size += calculate_directory_size(value)\n",
        "        else:\n",
        "            total_size += value\n",
        "    return total_size\n",
        "\n",
        "directory_structure = {\n",
        "    \"file1.txt\": 200,\n",
        "    \"file2.txt\": 300,\n",
        "    \"subdir1\": {\n",
        "        \"file3.txt\": 400,\n",
        "        \"file4.txt\": 100\n",
        "    },\n",
        "    \"subdir2\": {\n",
        "        \"subsubdir1\": {\n",
        "            \"file5.txt\": 250\n",
        "        },\n",
        "        \"file6.txt\": 150\n",
        "    }\n",
        "}\n",
        "\n",
        "print(\"Total directory size:\", calculate_directory_size(directory_structure), \"KB\")"
      ],
      "metadata": {
        "colab": {
          "base_uri": "https://localhost:8080/"
        },
        "id": "k3l7pByB2gdp",
        "outputId": "39749256-298a-4c61-9253-be460d635ef8"
      },
      "execution_count": 9,
      "outputs": [
        {
          "output_type": "stream",
          "name": "stdout",
          "text": [
            "Total directory size: 1400 KB\n"
          ]
        }
      ]
    },
    {
      "cell_type": "markdown",
      "source": [
        " 8.2.2 Task 1- Coin Change Problem:\n",
        " Scenario: Given a set of coin denominations and a target amount, find the minimum number\n",
        " of coins needed to make the amount. If it’s not possible, return- 1.\n",
        " Task:\n",
        " 1. Write a function min_coins(coins, amount) that:\n",
        " • Uses DP to calculate the minimum number of coins needed to make up the\n",
        " amount.\n",
        " 2. Test with coins = [1, 2, 5] and amount = 11. The result should be 3 (using coins\n",
        " [5, 5, 1])."
      ],
      "metadata": {
        "id": "CzXMriUG2ntj"
      }
    },
    {
      "cell_type": "code",
      "source": [
        "def min_coins(coins, amount):\n",
        "    dp = [float('inf')] * (amount + 1)\n",
        "    dp[0] = 0\n",
        "    for coin in coins:\n",
        "        for i in range(coin, amount + 1):\n",
        "            dp[i] = min(dp[i], dp[i - coin] + 1)\n",
        "    return dp[amount] if dp[amount] != float('inf') else -1\n",
        "\n",
        "print(\"Minimum coins needed:\", min_coins([1, 2, 5], 11))"
      ],
      "metadata": {
        "colab": {
          "base_uri": "https://localhost:8080/"
        },
        "id": "0Nlknn3q2yw1",
        "outputId": "a73ccd41-19fd-44d0-dc9f-82eb65cc1dd9"
      },
      "execution_count": 10,
      "outputs": [
        {
          "output_type": "stream",
          "name": "stdout",
          "text": [
            "Minimum coins needed: 3\n"
          ]
        }
      ]
    },
    {
      "cell_type": "markdown",
      "source": [
        " Task2-Longest Common Subsequence(LCS):\n"
      ],
      "metadata": {
        "id": "4oR9ORYR29kf"
      }
    },
    {
      "cell_type": "code",
      "source": [
        "def longest_common_subsequence(s1, s2):\n",
        "    m, n = len(s1), len(s2)\n",
        "    dp = [[0] * (n + 1) for _ in range(m + 1)]\n",
        "\n",
        "    for i in range(1, m + 1):\n",
        "        for j in range(1, n + 1):\n",
        "            if s1[i - 1] == s2[j - 1]:\n",
        "                dp[i][j] = dp[i - 1][j - 1] + 1\n",
        "            else:\n",
        "                dp[i][j] = max(dp[i - 1][j], dp[i][j - 1])\n",
        "\n",
        "    return dp[m][n]\n",
        "\n",
        "print(\"LCS length:\", longest_common_subsequence(\"abcde\", \"ace\"))"
      ],
      "metadata": {
        "colab": {
          "base_uri": "https://localhost:8080/"
        },
        "id": "kw7WiOGY2-Iz",
        "outputId": "d813aac7-6a21-46c5-a3d9-f0bae21971a4"
      },
      "execution_count": 11,
      "outputs": [
        {
          "output_type": "stream",
          "name": "stdout",
          "text": [
            "LCS length: 3\n"
          ]
        }
      ]
    },
    {
      "cell_type": "markdown",
      "source": [
        " Task 3- 0/1 Knapsack Problem:\n",
        " Scenario: You have a list of items, each with a weight and a value. Given a weight capacity,\n",
        " maximize the total value of items you can carry without exceeding the weight capacity.\n",
        " Task:\n",
        " 1. Write a function knapsack(weights, values, capacity) that:\n",
        " • Uses DP to determine the maximum value that can be achieved within the given\n",
        " weight capacity.\n",
        " 2. Test with weights [1, 3, 4, 5], values [1, 4, 5, 7], and capacity 7. The re\n",
        "sult should be 9"
      ],
      "metadata": {
        "id": "IP7754x43XlH"
      }
    },
    {
      "cell_type": "code",
      "source": [
        "def knapsack(weights, values, capacity):\n",
        "\n",
        "    n = len(weights)\n",
        "    dp = [0] * (capacity + 1)\n",
        "\n",
        "    for i in range(n):\n",
        "        for w in range(capacity, weights[i] - 1, -1):\n",
        "            dp[w] = max(dp[w], dp[w - weights[i]] + values[i])\n",
        "\n",
        "    return dp[capacity]\n",
        "\n",
        "print(\"Maximum Value:\", knapsack([1, 3, 4, 5], [1, 4, 5, 7], 7))"
      ],
      "metadata": {
        "colab": {
          "base_uri": "https://localhost:8080/"
        },
        "id": "ULrjTBbQ3dcc",
        "outputId": "642fe0f5-10a6-4600-e77e-d3682414c3cd"
      },
      "execution_count": 12,
      "outputs": [
        {
          "output_type": "stream",
          "name": "stdout",
          "text": [
            "Maximum Value: 9\n"
          ]
        }
      ]
    }
  ]
}